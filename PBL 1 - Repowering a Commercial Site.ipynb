{
 "cells": [
  {
   "cell_type": "markdown",
   "id": "5d03440b-c78d-463c-9006-0582911409d9",
   "metadata": {},
   "source": [
    "# PBL 1 - Repowering a Commercial Site"
   ]
  },
  {
   "cell_type": "markdown",
   "id": "7c183a50-c37d-47c5-bb4f-f83e7d29a56c",
   "metadata": {},
   "source": [
    "A commercial building owner seeking advice on what to do with their PV systems as their rooftop ages: decommissioning the system, reinstalling the current setup after roof maintenance, or repowering with newer, more efficient technology\n"
   ]
  },
  {
   "cell_type": "markdown",
   "id": "9201acd5-1e64-4040-8db5-5f1280d89068",
   "metadata": {},
   "source": [
    "## 0. Python Imports\n",
    "\n",
    "If running on google colab, the below cell will Install the requirements as well as download the files into your working space.\n"
   ]
  },
  {
   "cell_type": "code",
   "execution_count": 35,
   "id": "5adf976d-2919-4a02-854a-218a31264bcb",
   "metadata": {},
   "outputs": [
    {
     "name": "stdout",
     "output_type": "stream",
     "text": [
      "Not in Colab — skipping Install and downloads.\n"
     ]
    }
   ],
   "source": [
    "import os\n",
    "\n",
    "def is_colab():\n",
    "    try:\n",
    "        import google.colab\n",
    "        return True\n",
    "    except ImportError:\n",
    "        return False\n",
    "\n",
    "if is_colab():\n",
    "    print(\"Running in Google Colab — Installing and Downloading files...\")\n",
    "    !pip install -r https://raw.githubusercontent.com/PV-Tutorials/2025_PVPMC_PV_Repowering/main/requirements.txt\n",
    "    \n",
    "    base_url = \"https://raw.githubusercontent.com/PV-Tutorials/2025_PVPMC_PV_Repowering/main/data/\"\n",
    "    files = [\"CA_weather_data.csv\", \"CO_weather_data.csv\", \"repower_weather_file.csv\", \"weather_file.csv\"]\n",
    "    \n",
    "    folder_name = \"data\"\n",
    "    os.makedirs(folder_name, exist_ok=True)\n",
    "    \n",
    "    # Download each file into the folder\n",
    "    for file in files:\n",
    "        !wget -q -O {os.path.join(folder_name, file)} {base_url + file}\n",
    "    \n",
    "    # List the files to confirm\n",
    "    !ls {folder_name}\n",
    "    \n",
    "    \n",
    "    \n",
    "    base_url = \"https://raw.githubusercontent.com/PV-Tutorials/2025_PVPMC_PV_Repowering/main/PBL%201_Data/\"\n",
    "    files = [\"reinstall_-_upfront_cost_cashloan.json\", \n",
    "             \"reinstall_-_upfront_cost_grid.json\", \n",
    "             \"reinstall_-_upfront_cost_pvsamv1.json\", \n",
    "             \"reinstall_-_upfront_cost_utilityrate5.json\"]\n",
    "    \n",
    "    folder_name = \"PBL_1_Data\"\n",
    "    os.makedirs(folder_name, exist_ok=True)\n",
    "    \n",
    "    # Download each file into the folder\n",
    "    for file in files:\n",
    "        !wget -q -O {os.path.join(folder_name, file)} {base_url + file}\n",
    "    \n",
    "    # List the files to confirm\n",
    "    !ls {folder_name}\n",
    "\n",
    "else:\n",
    "    print(\"Not in Colab — skipping Install and downloads.\")"
   ]
  },
  {
   "cell_type": "code",
   "execution_count": 2,
   "id": "64c8d544-99ac-4386-88fb-5bdb51f0e15c",
   "metadata": {},
   "outputs": [],
   "source": [
    "#Imports\n",
    "import PySAM\n",
    "import PV_ICE\n",
    "import pandas as pd\n",
    "import numpy as np\n",
    "import json\n",
    "import os\n",
    "from PySAM import Pvsamv1 as pv\n",
    "from PySAM import Pvwattsv8 as pvwatts\n",
    "from PySAM import Cashloan as com\n",
    "from PySAM import Grid as grid\n",
    "from PySAM import Utilityrate5 as ur\n",
    "import PySAM.Pvsamv1Tools as pvtools\n",
    "import PySAM.ResourceTools as tools"
   ]
  },
  {
   "cell_type": "code",
   "execution_count": 3,
   "id": "5f755c2a-dcda-47f2-b861-b97c6ad3e573",
   "metadata": {},
   "outputs": [
    {
     "name": "stdout",
     "output_type": "stream",
     "text": [
      "Working on a  Windows 11\n",
      "Python version  3.12.7 | packaged by Anaconda, Inc. | (main, Oct  4 2024, 13:17:27) [MSC v.1929 64 bit (AMD64)]\n",
      "Pandas version  2.2.2\n",
      "PySAM version  7.0.0\n",
      "PV_ICE version  0.4.3\n"
     ]
    }
   ],
   "source": [
    "# This information helps with debugging and getting support :)\n",
    "import sys, platform\n",
    "print(\"Working on a \", platform.system(), platform.release())\n",
    "print(\"Python version \", sys.version)\n",
    "print(\"Pandas version \", pd.__version__)\n",
    "print(\"PySAM version \", PySAM.__version__)\n",
    "print(\"PV_ICE version \", PV_ICE.__version__)"
   ]
  },
  {
   "cell_type": "markdown",
   "id": "3519f64f-99ef-4536-bfa9-8ab86f6b2c86",
   "metadata": {},
   "source": [
    "## 1. Set up base case\n"
   ]
  },
  {
   "cell_type": "markdown",
   "id": "87f3dd40-523c-4eef-af20-d1ef53a6f90b",
   "metadata": {},
   "source": [
    "### Load SAM Json files\n"
   ]
  },
  {
   "cell_type": "code",
   "execution_count": 4,
   "id": "c4ca474f-478a-43b2-8c42-0d123c4cdd5d",
   "metadata": {},
   "outputs": [],
   "source": [
    "pv_model = pv.default(\"FlatPlatePVCommercial\")\n",
    "ur_model = ur.from_existing(pv_model)\n",
    "grid_model = grid.from_existing(pv_model)\n",
    "fin_model = com.from_existing(pv_model)\n",
    "\n",
    "for json_file in os.listdir('PBL 1_Data'):\n",
    "    # get the inputs from the JSON file\n",
    "    with open( 'PBL 1_Data/' + json_file, 'r') as f:\n",
    "            pv_inputs = json.load( f )\n",
    "    \n",
    "    # iterate through the input key-value pairs and set the module inputs\n",
    "    for k, v in pv_inputs.items():\n",
    "        if k != 'number_inputs':\n",
    "            try:\n",
    "                pv_model.value(k, v)\n",
    "            except:\n",
    "                try:\n",
    "                    ur_model.value(k, v)\n",
    "                except:\n",
    "                    try:\n",
    "                        grid_model.value(k, v)\n",
    "                    except:\n",
    "                        try:\n",
    "                            fin_model.value(k, v)\n",
    "                        except:\n",
    "                            print(\"Variable not found in modules\")\n",
    "\n",
    "# grid_model = grid.from_existing(pv_model)\n",
    "# ur_model = ur.from_existing(pv_model)\n",
    "# fin_model = com.from_existing(pv_model)\n"
   ]
  },
  {
   "cell_type": "markdown",
   "id": "3bf10e0f-0b24-473e-a93e-9f3cfa5096eb",
   "metadata": {},
   "source": [
    "### Assign resource data\n"
   ]
  },
  {
   "cell_type": "code",
   "execution_count": 5,
   "id": "e2b4a43d-8899-499f-8d15-916277712d00",
   "metadata": {},
   "outputs": [
    {
     "name": "stdout",
     "output_type": "stream",
     "text": [
      "\n",
      "Starting data download for solar using 1 thread workers.\n",
      "Getting list of available NSRDB files for 39.75, -105.22.\n",
      "Error for 39.75, -105.22: {\n",
      "  \"error\": {\n",
      "    \"code\": \"API_KEY_INVALID\",\n",
      "    \"message\": \"An invalid api_key was supplied. Get one at https://developer.nrel.gov/signup/\"\n",
      "  }\n",
      "}\n"
     ]
    }
   ],
   "source": [
    "#Read in weather data from SAM, or use NSRDB downloads in SAM format, or use dictionary of solar data\n",
    "#A. You already have a file\n",
    "weather_file = \"data/CA_weather_data.csv\"\n",
    "pv_model.SolarResource.solar_resource_file = weather_file"
   ]
  },
  {
   "cell_type": "code",
   "execution_count": null,
   "id": "8b82bb18-98a2-482f-8a84-2dd91d62a45a",
   "metadata": {},
   "outputs": [],
   "source": [
    "# ALTERNATIVE METHOD TO LOAD FROM A CSV\n",
    "\n",
    "# weather_data = PySAM.ResourceTools.SAM_CSV_to_solar_data(weather_file)\n",
    "# solar_resource_data = {\n",
    "#         'tz': tz, # timezone\n",
    "#         'elev': elev, # elevation\n",
    "#         'lat': lat, # latitude\n",
    "#         'lon': lon, # longitude\n",
    "#         'year': tuple(weather_data[0]), # year\n",
    "#         'month': tuple(weather_data[1]), # month\n",
    "#         'day': tuple(weather_data[2]), # day\n",
    "#         'hour': tuple(weather_data[3]), # hour\n",
    "#         'minute': tuple(weather_data[4]), # minute\n",
    "#         'dn': tuple(weather_data[5]), # direct normal irradiance\n",
    "#         'df': tuple(weather_data[6]), # diffuse irradiance\n",
    "#         'gh': tuple(weather_data[7]), # global horizontal irradiance\n",
    "#         'wspd': tuple(weather_data[8]), # windspeed\n",
    "#         'tdry': tuple(weather_data[9]) # dry bulb temperature\n",
    "#         }\n",
    "# pv_model.unassign(\"solar_resource_file\")\n",
    "# pv_model.SolarResource.solar_resource_data = solar_resource_data\n"
   ]
  },
  {
   "cell_type": "code",
   "execution_count": 31,
   "id": "3f3e1534-ce02-4be2-9ac2-e5729ae2977d",
   "metadata": {},
   "outputs": [],
   "source": [
    "# ALTERNATIVE ALTERNATIVE METHOD BY Download from NSRDB\n",
    "# \n",
    "# --- Initialize Solar Resource Fetcher with minimum parameters ---\n",
    "# See function documentation for full parameter list\n",
    "\n",
    "NSRDB_download = False\n",
    "\n",
    "if NSRDB_download:\n",
    "    # !pip install geocoder  # uncomment if in google collab tutorial or make sure it's on your environment.\n",
    "    import geocoder\n",
    "    \n",
    "    # replace with key and email address from https://developer.nrel.gov/signup/\n",
    "    sam_api_key = os.environ.get('NREL_API_KEY')\n",
    "    sam_email = os.environ.get('NREL_API_EMAIL')\n",
    "    # sam_api_key = nrel_developer_key\n",
    "    # sam_email = sam@email.com\n",
    "    geocode_api_key = ''  # optional, may be required for geocoder\n",
    "    \n",
    "    # --- Location Coordinates ---\n",
    "    \n",
    "    # Set geocode to True to use geocoding service API\n",
    "    geocode = False\n",
    "    if geocode:\n",
    "        # See https://geocoder.readthedocs.io/ for different geocoding services\n",
    "        g = geocoder.bing('golden, co', key=geocode_api_key)\n",
    "        lon = g.latlng[1]\n",
    "        lat = g.latlng[0]\n",
    "    else:\n",
    "        lon = -105.22\n",
    "        lat = 39.75\n",
    "    nsrdbfetcher = tools.FetchResourceFiles(\n",
    "                    tech='solar',\n",
    "                    nrel_api_key=sam_api_key,\n",
    "                    nrel_api_email=sam_email)\n",
    "    \n",
    "    # --- List of (lon, lat) tuples or Shapely points ---\n",
    "    lon_lats = [(lon, lat)]\n",
    "    nsrdbfetcher.fetch(lon_lats)\n",
    "    \n",
    "    # --- Get resource data file path ---\n",
    "    nsrdb_path_dict = nsrdbfetcher.resource_file_paths_dict\n",
    "    nsrdb_fp = nsrdb_path_dict[lon_lats[0]]\n",
    "    #pv_model.SolarResource.solar_resource_file = nsrdb_fp"
   ]
  },
  {
   "cell_type": "markdown",
   "id": "eea1333f-73b4-442f-a438-9f2764882e32",
   "metadata": {},
   "source": [
    "## Metrics for evaluation"
   ]
  },
  {
   "cell_type": "markdown",
   "id": "7a0a092b-f959-4097-9855-9208778f110e",
   "metadata": {},
   "source": [
    "We will save Net Present Value, and Payback Period for the four cases we're modeling. We're making a placeholder for that information in each run."
   ]
  },
  {
   "cell_type": "code",
   "execution_count": 6,
   "id": "fb62f385-b684-43ba-800b-325fd1f23581",
   "metadata": {},
   "outputs": [],
   "source": [
    "npv = []\n",
    "payback_period = []"
   ]
  },
  {
   "cell_type": "code",
   "execution_count": 7,
   "id": "2c7bc898-83f7-4d18-9f4d-eb9ab9b43d29",
   "metadata": {},
   "outputs": [],
   "source": [
    "decommissioning_cost_CO = 0.25 #cents/W, assumed 0.25 for Colorado in\n",
    "repower_cost = 2.21 #$/Wdc\n",
    "reinstall_cost = 0.58 #cents/W (modified by user)\n",
    "resell_value = 0.05 # $/W"
   ]
  },
  {
   "cell_type": "code",
   "execution_count": 8,
   "id": "9aeaba94-96fc-4c7f-9da6-a60050aec08c",
   "metadata": {},
   "outputs": [],
   "source": [
    "original_system_capacity = pv_model.SystemDesign.system_capacity"
   ]
  },
  {
   "attachments": {},
   "cell_type": "markdown",
   "id": "41276a95-5e1e-4a1a-a1fb-7b86d932d311",
   "metadata": {},
   "source": [
    "## 1. Setup Decommissioning Case\n",
    "\n",
    "- Mounting Technology: Racking scrap metal salvage value\n",
    "\n",
    "- Module disposition: Recycle\n",
    "\n",
    "- Remaining system lifetime: 0 years\n",
    "\n",
    "- Decommissioning Costs: 25 cents/W in CO; 10% premium in CA\n",
    "\n",
    "- Recycling costs: $17.00 per module \n",
    "\n",
    "- Labor/Other: 1 day labor for 120-150 modules with a team of 10, Insurance for roofer safety $230/person\n",
    "\n"
   ]
  },
  {
   "cell_type": "markdown",
   "id": "9e9caad2-e2e1-4be5-8aea-1e3b39a247b1",
   "metadata": {},
   "source": [
    "### Calculate Decommissioning Cost\n",
    "\n",
    "Decommissioining cost included here is for CO example. To translate to other regions, we can use premiums from https://www.eia.gov/analysis/studies/powerplants/capitalcost/xls/capital-cost-assumption-tables.xlsx\n",
    "\n",
    "For example, CA has a 10% premium in cost:\n"
   ]
  },
  {
   "cell_type": "code",
   "execution_count": 9,
   "id": "4cde3a26-29eb-4511-986b-793d06053457",
   "metadata": {},
   "outputs": [],
   "source": [
    "decommissioning_cost = decommissioning_cost_CO * 1.10 #cents/W, assumed 0.25 for Colorado increased by 10% to California\n",
    "decommissioning_cost_total = decommissioning_cost * pv_model.SystemDesign.system_capacity * 1000\n"
   ]
  },
  {
   "cell_type": "markdown",
   "id": "fe252762-c9aa-4ec2-a19d-b09d5ae4125e",
   "metadata": {},
   "source": [
    "### Calculate Recycling Cost"
   ]
  },
  {
   "cell_type": "code",
   "execution_count": 10,
   "id": "b1722e9a-c492-45b2-8d30-2be78caf4b29",
   "metadata": {},
   "outputs": [
    {
     "data": {
      "text/plain": [
       "27540.0"
      ]
     },
     "execution_count": 10,
     "metadata": {},
     "output_type": "execute_result"
    }
   ],
   "source": [
    "recycling_per_module = 17 # $Dollars. \n",
    "recycling_cost = recycling_per_module * (pv_model.SystemDesign.subarray1_modules_per_string * pv_model.SystemDesign.subarray1_nstrings)\n",
    "recycling_cost"
   ]
  },
  {
   "cell_type": "markdown",
   "id": "22a95eff-dec8-458e-a59b-74c6d2730bb5",
   "metadata": {},
   "source": [
    "### Assign Decomissioning and Recycling costs to NPV and update Payback Period"
   ]
  },
  {
   "cell_type": "code",
   "execution_count": 11,
   "id": "cbb06e4f-6c9a-49e4-8e27-578f357bcf9f",
   "metadata": {},
   "outputs": [],
   "source": [
    "#No generation, no incentives\n",
    "npv.append(-1 * (decommissioning_cost_total + recycling_cost))"
   ]
  },
  {
   "cell_type": "markdown",
   "id": "3d6dc8e9-000c-477e-a912-7bca2e690795",
   "metadata": {},
   "source": [
    "In case 1 we are decomissioning, so there are costs with no revenue. Therefore those expenses never pay back."
   ]
  },
  {
   "cell_type": "code",
   "execution_count": 12,
   "id": "5100b051-1dd6-4d42-88d6-c51ef1cc4d55",
   "metadata": {},
   "outputs": [],
   "source": [
    "#There is no payback period\n",
    "payback_period.append(float('nan'))"
   ]
  },
  {
   "attachments": {},
   "cell_type": "markdown",
   "id": "aebb69aa-71c8-4262-b348-070a534c2561",
   "metadata": {},
   "source": [
    "## 2. Setup Reinstall case\n",
    "\n",
    "- Module disposition: Keeping them\n",
    "\n",
    "- Mounting Technology: Keep racking\n",
    "\n",
    "- Remaining system lifetime: 12 years (user sets)\n",
    "\n",
    "- Costs: 1.5x the decommissioning cost (estimated)"
   ]
  },
  {
   "cell_type": "code",
   "execution_count": 13,
   "id": "7ba67349-8ec1-4ef2-a82f-463473bff570",
   "metadata": {},
   "outputs": [],
   "source": [
    "pv_model.execute()\n",
    "grid_model.execute()\n",
    "ur_model.execute()\n",
    "\n",
    "#Make the new scenario copying the existing system specs that stay the same\n",
    "grid_model = grid.from_existing(pv_model)\n",
    "ur_model = ur.from_existing(pv_model)\n",
    "fin_model = com.from_existing(pv_model)"
   ]
  },
  {
   "cell_type": "code",
   "execution_count": 14,
   "id": "36d09bbb-7dcd-472e-b8cf-416a9969a849",
   "metadata": {},
   "outputs": [],
   "source": [
    "reinstall_cost_total = reinstall_cost * pv_model.SystemDesign.system_capacity * 1000\n",
    "\n",
    "#Set system costs\n",
    "fin_model.SystemCosts.total_installed_cost = reinstall_cost_total\n"
   ]
  },
  {
   "cell_type": "code",
   "execution_count": 15,
   "id": "db510ccf-90c0-48bb-beec-6cbee45b8917",
   "metadata": {},
   "outputs": [],
   "source": [
    "#Optional: modify loan terms\n",
    "# fin_model.FinancialParameters.debt_fraction = 100 #%\n",
    "# fin_model.FinancialParameters.loan_term = 12 #years\n",
    "# fin_model.FinancialParameters.loan_rate = 7 #%/year\n"
   ]
  },
  {
   "cell_type": "code",
   "execution_count": 16,
   "id": "05e3f3dd-0bfb-4484-ad6c-5a5e21705e50",
   "metadata": {},
   "outputs": [],
   "source": [
    "fin_model.execute()\n",
    "npv.append(fin_model.Outputs.npv)\n",
    "payback_period.append(fin_model.Outputs.payback)"
   ]
  },
  {
   "attachments": {},
   "cell_type": "markdown",
   "id": "cf83808c-f860-40dd-a9d3-5dd18f81912d",
   "metadata": {},
   "source": [
    "## 3. Setup Repower w EoL Recycling case\n",
    "\n",
    "-Module disposition: New module cost + Recycle\n",
    "\n",
    "-Mounting Technology: Keep racking\n",
    "\n",
    "-Remaining system lifetime: 30 years (user sets)\n",
    "\n",
    "-Costs: \\\\$1/W to \\\\$2.50/W OR 10-30% adder above greenfield; \n",
    "Recycling: $10/panel\n",
    "\n",
    "-Labor/Other:To not renegotiate, new system size must not be >10% or less than 1kW greaterA\n",
    "\n"
   ]
  },
  {
   "cell_type": "code",
   "execution_count": 17,
   "id": "2e19b1cd-d376-4ce9-baf0-50e744d4d044",
   "metadata": {},
   "outputs": [],
   "source": [
    "repower = pv_model\n",
    "grid_model = grid.from_existing(repower)\n",
    "ur_model = ur.from_existing(repower)\n",
    "fin_model = com.from_existing(repower)"
   ]
  },
  {
   "cell_type": "markdown",
   "id": "b75707b4-7af1-418d-b9aa-69bacd5a0918",
   "metadata": {},
   "source": [
    "### Chose new Module and System Capacity"
   ]
  },
  {
   "cell_type": "code",
   "execution_count": 18,
   "id": "9d086b97-902b-4075-a66d-11b26201d5d8",
   "metadata": {},
   "outputs": [
    {
     "name": "stdout",
     "output_type": "stream",
     "text": [
      "This function does not set the bifaciality of a module based on the bifacial based on the lib_is_bifacial value. Please change cec_is_bifacial to 1 to make the module bifacial.\n"
     ]
    }
   ],
   "source": [
    "mod_dict = pvtools.set_cec_module_library_selection(repower, \"Aptos Solar Technology LLC DNA-144-BF10-530W\")\n",
    "sys_cap = 504 #kWDC\n",
    "repower.Lifetime.analysis_period = 30 #years\n",
    "n_strings, n_combiners, n_inverters, calculated_system_capacity = pvtools.size_electrical_parameters(repower, sys_cap, 1.1)\n",
    "\n",
    "#The function above does not automatically set the bifaciality of a module based on the bifacial based on the lib_is_bifacial value. \n",
    "# Please change cec_is_bifacial to 1 to make the module bifacial.\n",
    "bifacial_module, = mod_dict['lib_is_bifacial'].values()\n",
    "if bifacial_module:\n",
    "    repower.CECPerformanceModelWithModuleDatabase.cec_is_bifacial = 1.0\n"
   ]
  },
  {
   "cell_type": "markdown",
   "id": "d8024710-eaf6-4da7-9b4c-c2c534ea1c6d",
   "metadata": {},
   "source": [
    "### Calculating Repower and Recycling Costs"
   ]
  },
  {
   "cell_type": "code",
   "execution_count": 19,
   "id": "734e3739-71ba-44ce-bac9-8d8f41aff39d",
   "metadata": {},
   "outputs": [],
   "source": [
    "repower_cost = 2.21 #$/Wdc\n",
    "repower_cost_total = repower_cost * repower.SystemDesign.system_capacity * 1000\n",
    "recycle_cost = 16200\n",
    "total_installed_cost = repower_cost_total + recycle_cost"
   ]
  },
  {
   "cell_type": "code",
   "execution_count": 20,
   "id": "50de9a84-f84b-4557-bc04-2107c71f2fab",
   "metadata": {},
   "outputs": [],
   "source": [
    "#Optional: modify loan terms\n",
    "# fin_model.FinancialParameters.debt_fraction = 100 #%\n",
    "# fin_model.FinancialParameters.loan_term = 12 #years\n",
    "# fin_model.FinancialParameters.loan_rate = 7 #%/year"
   ]
  },
  {
   "cell_type": "markdown",
   "id": "29d0a2ba-4645-4476-aa9d-4d62e460c242",
   "metadata": {},
   "source": [
    "### Incentives!"
   ]
  },
  {
   "cell_type": "code",
   "execution_count": 21,
   "id": "ef58c347-3850-4173-9c39-cddc40d6dbb1",
   "metadata": {},
   "outputs": [],
   "source": [
    "fin_model.TaxCreditIncentives.itc_fed_amount = [291818] #30%, accounting for depreciation \n",
    "fin_model.SystemCosts.total_installed_cost = total_installed_cost"
   ]
  },
  {
   "cell_type": "code",
   "execution_count": 22,
   "id": "4f4ce4c8-9af2-429c-874b-d05e574f34ff",
   "metadata": {},
   "outputs": [],
   "source": [
    "repower.execute()\n",
    "grid_model.execute()\n",
    "ur_model.execute()\n",
    "fin_model.execute()\n",
    "#bill_savings = ur_model.Outputs.savings_year1 # optional save for getting more details\n",
    "npv.append(fin_model.Outputs.npv)\n",
    "payback_period.append(fin_model.Outputs.payback)\n"
   ]
  },
  {
   "attachments": {},
   "cell_type": "markdown",
   "id": "6bf6d1cc-20d4-40ed-bd53-8284175090f6",
   "metadata": {},
   "source": [
    "## 4. Setup Repower + resell case\n",
    "\n",
    "-Module disposition: New module cost + Resell\n",
    "\n",
    "-Mounting Technology: Keep racking\n",
    "\n",
    "-Remaining system lifetime: 30 years (user sets)\n",
    "\n",
    "-Costs: Repowering + recycling cost\n",
    "\n",
    "\n",
    "Considerations: :To not renegotiate, new system size must not bewithin >10 of original capacity.A\n",
    "\n"
   ]
  },
  {
   "cell_type": "markdown",
   "id": "5264412b-20d8-42bc-b930-ecd2fb4c46bd",
   "metadata": {},
   "source": [
    "<b> --> Run after Repower + scrap case, then no need to re-run performance calculations, only financials\n",
    "</b>"
   ]
  },
  {
   "cell_type": "code",
   "execution_count": 32,
   "id": "68f5dcce-c420-4594-9fee-7ceea3fe0604",
   "metadata": {},
   "outputs": [],
   "source": [
    "repower_cost_total = repower_cost * repower.SystemDesign.system_capacity * 1000\n",
    "reselling_gains = resell_value * original_system_capacity * 1000 \n",
    "total_installed_cost = repower_cost_total - reselling_gains "
   ]
  },
  {
   "cell_type": "code",
   "execution_count": 25,
   "id": "664fc5d5-0c78-4d00-938e-80a9d3e46013",
   "metadata": {},
   "outputs": [],
   "source": [
    "fin_model.SystemCosts.total_installed_cost = total_installed_cost\n",
    "fin_model.TaxCreditIncentives.itc_fed_amount = [291818] #30%, accounting for depreciation \n",
    "fin_model.execute()\n",
    "npv.append(fin_model.Outputs.npv)\n",
    "payback_period.append(fin_model.Outputs.payback)"
   ]
  },
  {
   "cell_type": "markdown",
   "id": "98278c9d-ef1f-4260-ba78-2f620fa7dbf2",
   "metadata": {},
   "source": [
    "## Comparison of Cases"
   ]
  },
  {
   "cell_type": "code",
   "execution_count": 27,
   "id": "d01a6c6a-4a57-4fba-9071-4d6cca60b54c",
   "metadata": {},
   "outputs": [
    {
     "name": "stdout",
     "output_type": "stream",
     "text": [
      "                  0              1         2\n",
      "0      Decommission   -165711.3795       NaN\n",
      "1         Reinstall  547956.448951   2.87441\n",
      "2   Repower + scrap   616218.78358  7.761185\n",
      "3  Repower + resell  662675.133737  7.276673\n",
      "             labels            npv   payback\n",
      "0      Decommission   -165711.3795       NaN\n",
      "1         Reinstall  547956.448951   2.87441\n",
      "2   Repower + scrap   616218.78358  7.761185\n",
      "3  Repower + resell  662675.133737  7.276673\n"
     ]
    }
   ],
   "source": [
    "# Graphing\n",
    "import seaborn as sns\n",
    "import matplotlib.pyplot as plt\n",
    "import numpy as np\n",
    "import pandas as pd\n",
    "\n",
    "labels = [\"Decommission\", \"Reinstall\", \"Repower + scrap\", \"Repower + resell\"]\n",
    "data = pd.DataFrame([labels, npv, payback_period])\n",
    "data = data.transpose()\n",
    "print(data)\n",
    "data.columns = [\"labels\", \"npv\", \"payback\"]\n",
    "print(data)\n"
   ]
  },
  {
   "cell_type": "code",
   "execution_count": 28,
   "id": "d697e2e6-85a8-4190-8e08-0b807319e8b2",
   "metadata": {},
   "outputs": [
    {
     "data": {
      "text/plain": [
       "<Axes: xlabel='labels', ylabel='npv'>"
      ]
     },
     "execution_count": 28,
     "metadata": {},
     "output_type": "execute_result"
    },
    {
     "data": {
      "image/png": "[encoded data removed]",
      "text/plain": [
       "<Figure size 640x480 with 1 Axes>"
      ]
     },
     "metadata": {},
     "output_type": "display_data"
    }
   ],
   "source": [
    "sns.barplot(data, x=\"labels\", y=\"npv\")"
   ]
  },
  {
   "cell_type": "code",
   "execution_count": 29,
   "id": "46ac2cef-ffd2-4e2f-9230-cb899a993a1d",
   "metadata": {},
   "outputs": [
    {
     "data": {
      "text/plain": [
       "<Axes: xlabel='labels', ylabel='payback'>"
      ]
     },
     "execution_count": 29,
     "metadata": {},
     "output_type": "execute_result"
    },
    {
     "data": {
      "image/png": "[encoded data removed]",
      "text/plain": [
       "<Figure size 640x480 with 1 Axes>"
      ]
     },
     "metadata": {},
     "output_type": "display_data"
    }
   ],
   "source": [
    "sns.barplot(data, x=\"labels\", y=\"payback\")"
   ]
  },
  {
   "cell_type": "code",
   "execution_count": null,
   "id": "cba82d36-a077-442c-8775-694ce8b1dd49",
   "metadata": {},
   "outputs": [],
   "source": []
  }
 ],
 "metadata": {
  "kernelspec": {
   "display_name": "repowering",
   "language": "python",
   "name": "repowering"
  },
  "language_info": {
   "codemirror_mode": {
    "name": "ipython",
    "version": 3
   },
   "file_extension": ".py",
   "mimetype": "text/x-python",
   "name": "python",
   "nbconvert_exporter": "python",
   "pygments_lexer": "ipython3",
   "version": "3.12.7"
  }
 },
 "nbformat": 4,
 "nbformat_minor": 5
}
