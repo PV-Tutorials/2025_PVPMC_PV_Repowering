{
 "cells": [
  {
   "attachments": {},
   "cell_type": "markdown",
   "metadata": {
    "slideshow": {
     "slide_type": "slide"
    }
   },
   "source": [
    "# Welcome to Repowering Tutorial\n",
    "And how to use Jupyter, Google Collab and Python.\n"
   ]
  },
  {
   "attachments": {},
   "cell_type": "markdown",
   "metadata": {
    "slideshow": {
     "slide_type": "slide"
    }
   },
   "source": [
    "## How to use this tutorial?\n",
    "\n",
    "This tutorial is a [Jupyter](https://jupyter.org) notebook. Jupyter is a browser based interactive tool that combines text, images, equations, and code that can be shared with others. Please see the setup section in the [README](./README.md) to learn more about how to get started."
   ]
  },
  {
   "attachments": {},
   "cell_type": "markdown",
   "metadata": {
    "slideshow": {
     "slide_type": "slide"
    }
   },
   "source": [
    "## Tutorial Structure\n",
    "\n",
    "This tutorial is made up of multiple Jupyter Notebooks. These notebooks mix\n",
    "code, text, visualization, and exercises.\n",
    "\n",
    "If you haven't used JupyterLab before, it's similar to the Jupyter Notebook. If\n",
    "you haven't used the Notebook, the quick intro is\n",
    "\n",
    "1. There are two modes: ``command`` and ``edit``\n",
    "\n",
    "1. From ``command`` mode, press `Enter` to edit a cell (like this markdown cell)\n",
    "\n",
    "1. From ``edit`` mode, press `Esc` to change to command mode\n",
    "1. Press `shift+enter` to execute a cell and move to the next cell.\n",
    "1. The toolbar has commands for executing, converting, and creating cells.\n",
    "\n",
    "The layout of the tutorial will be as follows:\n",
    "\n"
   ]
  },
  {
   "cell_type": "code",
   "execution_count": null,
   "metadata": {},
   "outputs": [],
   "source": [
    "# if running on google colab, uncomment the next line and execute this cell to install the dependencies and prevent \"ModuleNotFoundError\" in later cells:\n",
    "# !pip install -r https://raw.githubusercontent.com/PVSC-Python-Tutorials/PVSC50/main/requirements.txt"
   ]
  },
  {
   "attachments": {},
   "cell_type": "markdown",
   "metadata": {
    "slideshow": {
     "slide_type": "slide"
    }
   },
   "source": [
    "## Exercise: Print Hello, world!\n",
    "\n",
    "Each notebook will have exercises for you to solve. You'll be given a blank or\n",
    "partially completed cell, followed by a hidden cell with a solution. For\n",
    "example.\n",
    "\n",
    "Print the text \"Hello, world!\".\n"
   ]
  },
  {
   "cell_type": "code",
   "execution_count": 1,
   "metadata": {
    "slideshow": {
     "slide_type": "subslide"
    }
   },
   "outputs": [
    {
     "name": "stdout",
     "output_type": "stream",
     "text": [
      "Hello, world!\n"
     ]
    }
   ],
   "source": [
    "# Your code here\n",
    "print(\"Hello, world!\")"
   ]
  },
  {
   "attachments": {},
   "cell_type": "markdown",
   "metadata": {},
   "source": [
    "## Exercise 1: Modify to print something else:"
   ]
  },
  {
   "cell_type": "code",
   "execution_count": null,
   "metadata": {},
   "outputs": [],
   "source": [
    "my_string =    # Add your text here. Remember to put it inside of single quotes or double quotes ( \" \" or '' )\n",
    "print(my_string)"
   ]
  },
  {
   "attachments": {},
   "cell_type": "markdown",
   "metadata": {
    "jp-MarkdownHeadingCollapsed": true,
    "slideshow": {
     "slide_type": "skip"
    }
   },
   "source": [
    "## Now you're ready\n",
    "\n",
    "This skills will allow you to explore any jupyter notebook."
   ]
  },
  {
   "attachments": {},
   "cell_type": "markdown",
   "metadata": {},
   "source": [
    "[![Creative Commons License](https://i.creativecommons.org/l/by/4.0/88x31.png)](http://creativecommons.org/licenses/by/4.0/)\n",
    "\n",
    "This work is licensed under a [Creative Commons Attribution 4.0 International License](http://creativecommons.org/licenses/by/4.0/)."
   ]
  }
 ],
 "metadata": {
  "kernelspec": {
   "display_name": "Python 3 (ipykernel)",
   "language": "python",
   "name": "python3"
  },
  "language_info": {
   "codemirror_mode": {
    "name": "ipython",
    "version": 3
   },
   "file_extension": ".py",
   "mimetype": "text/x-python",
   "name": "python",
   "nbconvert_exporter": "python",
   "pygments_lexer": "ipython3",
   "version": "3.12.7"
  }
 },
 "nbformat": 4,
 "nbformat_minor": 4
}
