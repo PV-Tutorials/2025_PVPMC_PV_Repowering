{
 "cells": [
  {
   "cell_type": "code",
   "execution_count": 2,
   "id": "504c0e94-f1ea-4817-8f02-89cf8c3a60c8",
   "metadata": {},
   "outputs": [],
   "source": [
    "#Imports\n",
    "import PySAM\n",
    "import PV_ICE\n",
    "import pandas as pd\n",
    "import numpy as np\n",
    "import json\n",
    "import os\n",
    "from PySAM import Pvsamv1 as pv\n",
    "from PySAM import Pvwattsv8 as pvwatts\n",
    "from PySAM import Cashloan as res\n",
    "from PySAM import Grid as grid\n",
    "from PySAM import Utilityrate5 as ur\n",
    "import PySAM.Pvsamv1Tools as pvtools\n",
    "import PySAM.ResourceTools as tools"
   ]
  },
  {
   "cell_type": "code",
   "execution_count": 3,
   "id": "ba49cd17-6231-410a-8bfd-c66fcc8a51f1",
   "metadata": {},
   "outputs": [
    {
     "name": "stdout",
     "output_type": "stream",
     "text": [
      "Working on a  Windows 10\n",
      "Python version  3.11.7 | packaged by Anaconda, Inc. | (main, Dec 15 2023, 18:05:47) [MSC v.1916 64 bit (AMD64)]\n",
      "Pandas version  2.1.4\n",
      "PySAM version  7.0.0\n",
      "PV_ICE version  0.4.4.dev2+g378a012.d20250320\n"
     ]
    }
   ],
   "source": [
    "# This information helps with debugging and getting support :)\n",
    "import sys, platform\n",
    "print(\"Working on a \", platform.system(), platform.release())\n",
    "print(\"Python version \", sys.version)\n",
    "print(\"Pandas version \", pd.__version__)\n",
    "print(\"PySAM version \", PySAM.__version__)\n",
    "print(\"PV_ICE version \", PV_ICE.__version__)"
   ]
  },
  {
   "cell_type": "markdown",
   "id": "c590f0ca-fec7-4044-93cd-955d73201285",
   "metadata": {},
   "source": [
    "### Residential Repowering Scenario\n",
    "-Original system operates for X years\n",
    "\n",
    "-Need for roof repair, other reason to take panels off roof in year X\n",
    "\n",
    "-Calculate financials (net present value, payback period) for reinstalling existing panels vs. repowering with new modules\n"
   ]
  },
  {
   "cell_type": "code",
   "execution_count": 13,
   "id": "7b28ae6e-4828-43cf-9755-ab80abc13f7b",
   "metadata": {},
   "outputs": [
    {
     "name": "stdout",
     "output_type": "stream",
     "text": [
      "Variable not found in modules:en_belpe\n",
      "Variable not found in modules:floor_area\n",
      "Variable not found in modules:Stories\n",
      "Variable not found in modules:YrBuilt\n",
      "Variable not found in modules:Retrofits\n",
      "Variable not found in modules:Occupants\n",
      "Variable not found in modules:Occ_Schedule\n",
      "Variable not found in modules:THeat\n",
      "Variable not found in modules:TCool\n",
      "Variable not found in modules:THeatSB\n",
      "Variable not found in modules:TCoolSB\n",
      "Variable not found in modules:T_Sched\n",
      "Variable not found in modules:en_heat\n",
      "Variable not found in modules:en_cool\n",
      "Variable not found in modules:en_fridge\n",
      "Variable not found in modules:en_range\n",
      "Variable not found in modules:en_dish\n",
      "Variable not found in modules:en_wash\n",
      "Variable not found in modules:en_dry\n",
      "Variable not found in modules:en_mels\n",
      "Variable not found in modules:Monthly_util\n"
     ]
    }
   ],
   "source": [
    "#Step 1. Set up original system\n",
    "#Read in PySAM json\n",
    "# create a new instance of the Pvwattsv8 module\n",
    "pv_model = pvwatts.default(\"PVWattsResidential\")\n",
    "fin_model = res.from_existing(pv_model)\n",
    "#Alternatively, use PVWatts\n",
    "#pv_model = PySAM.Pvwattsv8.new()\n",
    "grid_model = grid.from_existing(pv_model)\n",
    "ur_model = ur.from_existing(pv_model)\n",
    "\n",
    "#User: input json files from SAM\n",
    "# json_file_folder = \"Repower_example\"\n",
    "# json_files = next(os.walk(json_file_folder))[2]\n",
    "# json_files.sort()\n",
    "# get the inputs from the JSON file\n",
    "for json_file in os.listdir('PBL 3_Data'):\n",
    "    with open( 'PBL 3_Data/' + json_file, 'r') as f:\n",
    "            pv_inputs = json.load( f )\n",
    "    \n",
    "    # iterate through the input key-value pairs and set the module inputs\n",
    "    for k, v in pv_inputs.items():\n",
    "        if k != 'number_inputs':\n",
    "            try:\n",
    "                pv_model.value(k, v)\n",
    "            except:\n",
    "                try:\n",
    "                    ur_model.value(k, v)\n",
    "                except:\n",
    "                    try:\n",
    "                        grid_model.value(k, v)\n",
    "                    except:\n",
    "                        try:\n",
    "                            fin_model.value(k, v)\n",
    "                        except:\n",
    "                            print(\"Variable not found in modules:\" + str(k))\n",
    "\n",
    "fin_model = res.from_existing(pv_model)\n",
    "#Alternatively, use PVWatts\n",
    "#pv_model = PySAM.Pvwattsv8.new()\n",
    "grid_model = res.from_existing(pv_model)\n",
    "ur_model = ur.from_existing(pv_model)\n"
   ]
  },
  {
   "cell_type": "code",
   "execution_count": 14,
   "id": "7f791824-2459-497a-bd42-f0394a104219",
   "metadata": {},
   "outputs": [
    {
     "name": "stdout",
     "output_type": "stream",
     "text": [
      "\n",
      "Starting data download for solar using 1 thread workers.\n",
      "Getting list of available NSRDB files for 39.75, -105.22.\n",
      "Error for 39.75, -105.22: {\n",
      "  \"error\": {\n",
      "    \"code\": \"API_KEY_INVALID\",\n",
      "    \"message\": \"An invalid api_key was supplied. Get one at https://developer.nrel.gov/signup/\"\n",
      "  }\n",
      "}\n"
     ]
    }
   ],
   "source": [
    "#Step 2. Download resource data\n",
    "#Read in weather data from SAM, or use NSRDB downloads in SAM format, or use dictionary of solar data\n",
    "#A. You already have a file\n",
    "weather_file = \"data/CO_weather_data.csv\"\n",
    "pv_model.SolarResource.solar_resource_file = weather_file\n",
    "\n",
    "#B. solar_resource_data\n",
    "# weather_data = PySAM.ResourceTools.SAM_CSV_to_solar_data(weather_file)\n",
    "# solar_resource_data = {\n",
    "#         'tz': tz, # timezone\n",
    "#         'elev': elev, # elevation\n",
    "#         'lat': lat, # latitude\n",
    "#         'lon': lon, # longitude\n",
    "#         'year': tuple(weather_data[0]), # year\n",
    "#         'month': tuple(weather_data[1]), # month\n",
    "#         'day': tuple(weather_data[2]), # day\n",
    "#         'hour': tuple(weather_data[3]), # hour\n",
    "#         'minute': tuple(weather_data[4]), # minute\n",
    "#         'dn': tuple(weather_data[5]), # direct normal irradiance\n",
    "#         'df': tuple(weather_data[6]), # diffuse irradiance\n",
    "#         'gh': tuple(weather_data[7]), # global horizontal irradiance\n",
    "#         'wspd': tuple(weather_data[8]), # windspeed\n",
    "#         'tdry': tuple(weather_data[9]) # dry bulb temperature\n",
    "#         }\n",
    "# pv_model.unassign(\"solar_resource_file\")\n",
    "# pv_model.SolarResource.solar_resource_data = solar_resource_data\n",
    "\n",
    "#C. Download from NSRDB\n",
    "# \n",
    "# --- Initialize Solar Resource Fetcher with minimum parameters ---\n",
    "# See function documentation for full parameter list\n",
    "\n",
    "#import geocoder\n",
    "\n",
    "# replace with key and email address from https://developer.nrel.gov/signup/\n",
    "sam_api_key = os.environ.get('NREL_API_KEY')\n",
    "sam_email = os.environ.get('NREL_API_EMAIL')\n",
    "# sam_api_key = nrel_developer_key\n",
    "# sam_email = sam@email.com\n",
    "geocode_api_key = ''  # optional, may be required for geocoder\n",
    "\n",
    "# --- Location Coordinates ---\n",
    "\n",
    "# Set geocode to True to use geocoding service API\n",
    "geocode = False\n",
    "if geocode:\n",
    "    # See https://geocoder.readthedocs.io/ for different geocoding services\n",
    "    g = geocoder.bing('golden, co', key=geocode_api_key)\n",
    "    lon = g.latlng[1]\n",
    "    lat = g.latlng[0]\n",
    "else:\n",
    "    lon = -105.22\n",
    "    lat = 39.75\n",
    "nsrdbfetcher = tools.FetchResourceFiles(\n",
    "                tech='solar',\n",
    "                nrel_api_key=sam_api_key,\n",
    "                nrel_api_email=sam_email)\n",
    "\n",
    "# --- List of (lon, lat) tuples or Shapely points ---\n",
    "lon_lats = [(lon, lat)]\n",
    "nsrdbfetcher.fetch(lon_lats)\n",
    "\n",
    "# --- Get resource data file path ---\n",
    "nsrdb_path_dict = nsrdbfetcher.resource_file_paths_dict\n",
    "nsrdb_fp = nsrdb_path_dict[lon_lats[0]]\n",
    "#pv_model.SolarResource.solar_resource_file = nsrdb_fp"
   ]
  },
  {
   "cell_type": "markdown",
   "id": "84ac26ec-2081-492e-ab08-597c72953136",
   "metadata": {},
   "source": [
    "### 2nd Life case"
   ]
  },
  {
   "cell_type": "code",
   "execution_count": 22,
   "id": "af2f6e44-7ec3-4190-92a7-7e745c289ee6",
   "metadata": {},
   "outputs": [
    {
     "name": "stdout",
     "output_type": "stream",
     "text": [
      "400\n"
     ]
    }
   ],
   "source": [
    "#second life - Unknown number of remaining years of life\n",
    "secondlife = pvwatts.from_existing(pv_model)\n",
    "secondlife_financial = res.from_existing(fin_model)\n",
    "grid_model = grid.from_existing(secondlife)\n",
    "ur_model = ur.from_existing(secondlife_financial)\n",
    "repower = pvwatts.from_existing(pv_model)\n",
    "repower_financial = res.from_existing(fin_model)\n",
    "\n",
    "remaining_years = np.arange(1, 21, 1) #calculate for 1 year of life to 20, modified by user\n",
    "secondlife_npv = []\n",
    "secondlife_payback = []\n",
    "nameplate_loss = 0 #User set degradation panel as nameplate % loss\n",
    "\n",
    "secondlife.SystemDesign.losses = secondlife.SystemDesign.losses + nameplate_loss \n",
    "\n",
    "secondlife_system_capacity = secondlife.SystemDesign.system_capacity * 1000 #Wdc\n",
    "secondlife_variable_cost = np.arange(0.1, 2.1, 0.1)\n",
    "secondlife_fixed_cost = 2400 #$\n",
    "\n",
    "secondlife_df = pd.DataFrame(np.empty((400, 4)), columns=['Cost', 'Lifetime', 'NPV', 'Payback'])\n",
    "\n",
    "\n",
    "i = 0\n",
    "#secondlife_financial.SystemCosts.total_installed_cost = secondlife_fixed_cost\n",
    "for lifetime in remaining_years:\n",
    "    for cost in secondlife_variable_cost:\n",
    "        secondlife.Lifetime.analysis_period = lifetime\n",
    "        grid_model.Lifetime.analysis_period = lifetime\n",
    "        ur_model.Lifetime.analysis_period = lifetime\n",
    "\n",
    "        secondlife_df.iloc[i, 0] = cost\n",
    "        secondlife_df.iloc[i, 1] = lifetime\n",
    "        \n",
    "        \n",
    "        secondlife.execute()\n",
    "        grid_model.execute()\n",
    "        ur_model.execute()\n",
    "        secondlife_financial.FinancialParameters.analysis_period = lifetime\n",
    "        # secondlife_financial.SystemOutput.degradation = [0]\n",
    "        secondlife_financial.SystemOutput.gen = secondlife.Outputs.gen\n",
    "        secondlife_financial.SystemCosts.total_installed_cost = cost * secondlife_system_capacity\n",
    "        secondlife_financial.execute()\n",
    "        secondlife_npv.append(secondlife_financial.Outputs.npv) #$\n",
    "        secondlife_payback.append(secondlife_financial.Outputs.payback) #years\n",
    "\n",
    "        secondlife_df.iloc[i, 2] = secondlife_financial.Outputs.npv\n",
    "        secondlife_df.iloc[i, 3] = secondlife_financial.Outputs.payback\n",
    "        i = i + 1\n",
    "print(i)\n"
   ]
  },
  {
   "cell_type": "markdown",
   "id": "cf583281-95ab-4971-95de-4035e505a087",
   "metadata": {},
   "source": [
    "### New Build Case"
   ]
  },
  {
   "cell_type": "code",
   "execution_count": 25,
   "id": "7199d824-1e68-4680-ae33-697852503791",
   "metadata": {},
   "outputs": [
    {
     "name": "stdout",
     "output_type": "stream",
     "text": [
      "1676.0354857170641\n"
     ]
    }
   ],
   "source": [
    "#newbuild case - Known system size, lifetime\n",
    "newbuild = secondlife\n",
    "newbuild_financial = res.from_existing(newbuild)\n",
    "grid_model = grid.from_existing(newbuild_financial)\n",
    "ur_model = ur.from_existing(newbuild_financial)\n",
    "\n",
    "new_system_analysis_period = 30 #years\n",
    "newbuild.Lifetime.analysis_period = new_system_analysis_period\n",
    "grid_model.Lifetime.analysis_period = new_system_analysis_period\n",
    "ur_model.Lifetime.analysis_period = new_system_analysis_period\n",
    "\n",
    "newbuild_cost_per_wdc = 2.76 #$/Wdc\n",
    "newbuild_cost_flat = 10000 #$\n",
    "newbuild_npv = 0\n",
    "newbuild_payback = 0\n",
    "\n",
    "newbuild.execute()\n",
    "grid_model.execute()\n",
    "ur_model.execute()\n",
    "newbuild_financial.SystemOutput.gen = newbuild.Outputs.gen\n",
    "newbuild_financial.SystemCosts.total_installed_cost = newbuild_cost_per_wdc * newbuild.SystemDesign.system_capacity * 1000\n",
    "#ITC 30%, user modify\n",
    "newbuild_financial.TaxCreditIncentives.itc_fed_percent = [30]\n",
    "# newbuild_financial.SystemCosts.total_installed_cost = newbuild_cost_flat\n",
    "\n",
    "newbuild_financial.execute()\n",
    "newbuild_npv = newbuild_financial.Outputs.npv\n",
    "newbuild_payback = newbuild_financial.Outputs.payback\n",
    "print(newbuild_npv)"
   ]
  },
  {
   "cell_type": "code",
   "execution_count": 26,
   "id": "2cb77768-babf-47f9-8c5b-a2caafa59f9c",
   "metadata": {},
   "outputs": [
    {
     "name": "stdout",
     "output_type": "stream",
     "text": [
      "     Cost  Lifetime          NPV   Payback\n",
      "0     0.1       1.0   542.313411       NaN\n",
      "1     0.2       1.0   158.104719       NaN\n",
      "2     0.3       1.0  -226.103974       NaN\n",
      "3     0.4       1.0  -610.312666       NaN\n",
      "4     0.5       1.0  -994.521359       NaN\n",
      "..    ...       ...          ...       ...\n",
      "395   1.6      20.0  4342.156865  5.618529\n",
      "396   1.7      20.0  3957.948173  5.952559\n",
      "397   1.8      20.0  3573.739480  6.281223\n",
      "398   1.9      20.0  3189.530788  6.608999\n",
      "399   2.0      20.0  2805.322095  6.936775\n",
      "\n",
      "[400 rows x 4 columns]\n"
     ]
    },
    {
     "data": {
      "image/png": "[encoded data removed]",
      "text/plain": [
       "<Figure size 640x480 with 2 Axes>"
      ]
     },
     "metadata": {},
     "output_type": "display_data"
    }
   ],
   "source": [
    "import seaborn as sns\n",
    "import matplotlib.pyplot as plt\n",
    "import numpy as np\n",
    "import pandas as pd\n",
    "print(secondlife_df)\n",
    "result = secondlife_df.pivot(index='Lifetime', columns='Cost', values='NPV')\n",
    "\n",
    "sns.heatmap(result, annot=False, fmt=\"g\", cmap='viridis')\n",
    "\n",
    "#sns.scatterplot(x=data['X'], y=data['Y'], color='red', s=100, ax=ax)\n",
    "\n",
    "plt.show()"
   ]
  },
  {
   "cell_type": "code",
   "execution_count": 11,
   "id": "a896c367-131c-4c9e-a1ea-2dbf9c59fb6c",
   "metadata": {},
   "outputs": [
    {
     "name": "stderr",
     "output_type": "stream",
     "text": [
      "C:\\Users\\mprillim\\AppData\\Local\\anaconda3\\Lib\\site-packages\\seaborn\\_oldcore.py:1119: FutureWarning: use_inf_as_na option is deprecated and will be removed in a future version. Convert inf values to NaN before operating instead.\n",
      "  with pd.option_context('mode.use_inf_as_na', True):\n",
      "C:\\Users\\mprillim\\AppData\\Local\\anaconda3\\Lib\\site-packages\\seaborn\\_oldcore.py:1119: FutureWarning: use_inf_as_na option is deprecated and will be removed in a future version. Convert inf values to NaN before operating instead.\n",
      "  with pd.option_context('mode.use_inf_as_na', True):\n",
      "C:\\Users\\mprillim\\AppData\\Local\\anaconda3\\Lib\\site-packages\\seaborn\\_oldcore.py:1119: FutureWarning: use_inf_as_na option is deprecated and will be removed in a future version. Convert inf values to NaN before operating instead.\n",
      "  with pd.option_context('mode.use_inf_as_na', True):\n",
      "C:\\Users\\mprillim\\AppData\\Local\\anaconda3\\Lib\\site-packages\\seaborn\\_oldcore.py:1119: FutureWarning: use_inf_as_na option is deprecated and will be removed in a future version. Convert inf values to NaN before operating instead.\n",
      "  with pd.option_context('mode.use_inf_as_na', True):\n"
     ]
    },
    {
     "data": {
      "image/png": "[encoded data removed]",
      "text/plain": [
       "<Figure size 1000x600 with 1 Axes>"
      ]
     },
     "metadata": {},
     "output_type": "display_data"
    }
   ],
   "source": [
    "import seaborn as sns\n",
    "import matplotlib.pyplot as plt\n",
    "import numpy as np\n",
    "import pandas as pd\n",
    "\n",
    "# Sample data\n",
    "data = pd.DataFrame({\n",
    "    'x1': capacity_range,\n",
    "    'y1': repower_npv,\n",
    "    \n",
    "})\n",
    "\n",
    "data['y2'] = reinstall_npv\n",
    "\n",
    "# Create the main plot\n",
    "fig, ax1 = plt.subplots(figsize=(10, 6))\n",
    "sns.lineplot(x='x1', y='y2', data=data, ax=ax1, color='blue', label='reinstall')\n",
    "ax1.set_xlabel('Original system remaining lifetime (years)')\n",
    "ax1.set_ylabel('NPV')\n",
    "\n",
    "# Create the second x-axis\n",
    "sns.lineplot(x='x1', y='y1', data=data, ax=ax1, color='orange', label='repower')\n",
    "#ax2.set_xbound(ax1.get_xbound())\n",
    "#plt.legend(['repower', 'reinstall'])\n",
    "\n",
    "# Display the plot\n",
    "plt.show()"
   ]
  },
  {
   "cell_type": "code",
   "execution_count": 12,
   "id": "6d75e878-4d07-4c3b-92c6-33db06a874de",
   "metadata": {},
   "outputs": [],
   "source": [
    "#Make decision on repower vs install, run PV_ICE\n",
    "import PV_ICE as pvice\n"
   ]
  }
 ],
 "metadata": {
  "kernelspec": {
   "display_name": "Python 3 (ipykernel)",
   "language": "python",
   "name": "python3"
  },
  "language_info": {
   "codemirror_mode": {
    "name": "ipython",
    "version": 3
   },
   "file_extension": ".py",
   "mimetype": "text/x-python",
   "name": "python",
   "nbconvert_exporter": "python",
   "pygments_lexer": "ipython3",
   "version": "3.11.7"
  }
 },
 "nbformat": 4,
 "nbformat_minor": 5
}
