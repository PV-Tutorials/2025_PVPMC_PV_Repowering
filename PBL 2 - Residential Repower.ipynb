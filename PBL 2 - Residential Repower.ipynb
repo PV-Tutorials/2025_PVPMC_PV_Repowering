{
 "cells": [
  {
   "cell_type": "code",
   "execution_count": 1,
   "id": "504c0e94-f1ea-4817-8f02-89cf8c3a60c8",
   "metadata": {},
   "outputs": [],
   "source": [
    "#Imports\n",
    "import PySAM\n",
    "import PV_ICE\n",
    "import pandas as pd\n",
    "import numpy as np\n",
    "import json\n",
    "import os\n",
    "from PySAM import Pvsamv1 as pv\n",
    "from PySAM import Pvwattsv8 as pvwatts\n",
    "from PySAM import Cashloan as res\n",
    "from PySAM import Grid as grid\n",
    "from PySAM import Utilityrate5 as ur\n",
    "import PySAM.Pvsamv1Tools as pvtools\n",
    "import PySAM.ResourceTools as tools"
   ]
  },
  {
   "cell_type": "code",
   "execution_count": 2,
   "id": "ba49cd17-6231-410a-8bfd-c66fcc8a51f1",
   "metadata": {},
   "outputs": [
    {
     "name": "stdout",
     "output_type": "stream",
     "text": [
      "Working on a  Windows 10\n",
      "Python version  3.11.7 | packaged by Anaconda, Inc. | (main, Dec 15 2023, 18:05:47) [MSC v.1916 64 bit (AMD64)]\n",
      "Pandas version  2.1.4\n",
      "PySAM version  7.0.0\n",
      "PV_ICE version  0.4.4.dev2+g378a012.d20250320\n"
     ]
    }
   ],
   "source": [
    "# This information helps with debugging and getting support :)\n",
    "import sys, platform\n",
    "print(\"Working on a \", platform.system(), platform.release())\n",
    "print(\"Python version \", sys.version)\n",
    "print(\"Pandas version \", pd.__version__)\n",
    "print(\"PySAM version \", PySAM.__version__)\n",
    "print(\"PV_ICE version \", PV_ICE.__version__)"
   ]
  },
  {
   "cell_type": "markdown",
   "id": "c590f0ca-fec7-4044-93cd-955d73201285",
   "metadata": {},
   "source": [
    "### Residential Repowering Scenario\n",
    "-Original system operates for X years\n",
    "\n",
    "-Need for roof repair, other reason to take panels off roof in year X\n",
    "\n",
    "-Calculate financials (net present value, payback period) for reinstalling existing panels vs. repowering with new modules\n"
   ]
  },
  {
   "cell_type": "code",
   "execution_count": 3,
   "id": "7b28ae6e-4828-43cf-9755-ab80abc13f7b",
   "metadata": {},
   "outputs": [
    {
     "name": "stdout",
     "output_type": "stream",
     "text": [
      "Variable not found in modules:en_belpe\n",
      "Variable not found in modules:floor_area\n",
      "Variable not found in modules:Stories\n",
      "Variable not found in modules:YrBuilt\n",
      "Variable not found in modules:Retrofits\n",
      "Variable not found in modules:Occupants\n",
      "Variable not found in modules:Occ_Schedule\n",
      "Variable not found in modules:THeat\n",
      "Variable not found in modules:TCool\n",
      "Variable not found in modules:THeatSB\n",
      "Variable not found in modules:TCoolSB\n",
      "Variable not found in modules:T_Sched\n",
      "Variable not found in modules:en_heat\n",
      "Variable not found in modules:en_cool\n",
      "Variable not found in modules:en_fridge\n",
      "Variable not found in modules:en_range\n",
      "Variable not found in modules:en_dish\n",
      "Variable not found in modules:en_wash\n",
      "Variable not found in modules:en_dry\n",
      "Variable not found in modules:en_mels\n",
      "Variable not found in modules:Monthly_util\n"
     ]
    }
   ],
   "source": [
    "#Step 1. Set up original system\n",
    "#Read in PySAM json\n",
    "# create a new instance of the Pvwattsv8 module\n",
    "pv_model = pv.default(\"FlatPlatePVResidential\")\n",
    "fin_model = res.from_existing(pv_model)\n",
    "#Alternatively, use PVWatts\n",
    "#pv_model = PySAM.Pvwattsv8.new()\n",
    "grid_model = res.from_existing(pv_model)\n",
    "ur_model = ur.from_existing(pv_model)\n",
    "\n",
    "#User: input json files from SAM\n",
    "# json_file_folder = \"Repower_example\"\n",
    "# json_files = next(os.walk(json_file_folder))[2]\n",
    "# json_files.sort()\n",
    "# get the inputs from the JSON file\n",
    "for json_file in os.listdir('PBL 2_Data'):\n",
    "    with open( 'PBL 2_Data/' + json_file, 'r') as f:\n",
    "            pv_inputs = json.load( f )\n",
    "    \n",
    "    # iterate through the input key-value pairs and set the module inputs\n",
    "    for k, v in pv_inputs.items():\n",
    "        if k != 'number_inputs':\n",
    "            try:\n",
    "                pv_model.value(k, v)\n",
    "            except:\n",
    "                try:\n",
    "                    ur_model.value(k, v)\n",
    "                except:\n",
    "                    try:\n",
    "                        grid_model.value(k, v)\n",
    "                    except:\n",
    "                        try:\n",
    "                            fin_model.value(k, v)\n",
    "                        except:\n",
    "                            print(\"Variable not found in modules:\" + str(k))\n",
    "\n",
    "fin_model = res.from_existing(pv_model)\n",
    "#Alternatively, use PVWatts\n",
    "#pv_model = PySAM.Pvwattsv8.new()\n",
    "grid_model = res.from_existing(pv_model)\n",
    "ur_model = ur.from_existing(pv_model)\n"
   ]
  },
  {
   "cell_type": "code",
   "execution_count": 4,
   "id": "7f791824-2459-497a-bd42-f0394a104219",
   "metadata": {},
   "outputs": [
    {
     "name": "stdout",
     "output_type": "stream",
     "text": [
      "\n",
      "Starting data download for solar using 1 thread workers.\n",
      "Getting list of available NSRDB files for 39.75, -105.22.\n",
      "Error for 39.75, -105.22: {\n",
      "  \"error\": {\n",
      "    \"code\": \"API_KEY_INVALID\",\n",
      "    \"message\": \"An invalid api_key was supplied. Get one at https://developer.nrel.gov/signup/\"\n",
      "  }\n",
      "}\n"
     ]
    }
   ],
   "source": [
    "#Step 2. Download resource data\n",
    "#Read in weather data from SAM, or use NSRDB downloads in SAM format, or use dictionary of solar data\n",
    "#A. You already have a file\n",
    "weather_file = \"data/CO_weather_data.csv\"\n",
    "pv_model.SolarResource.solar_resource_file = weather_file\n",
    "\n",
    "#B. solar_resource_data\n",
    "# weather_data = PySAM.ResourceTools.SAM_CSV_to_solar_data(weather_file)\n",
    "# solar_resource_data = {\n",
    "#         'tz': tz, # timezone\n",
    "#         'elev': elev, # elevation\n",
    "#         'lat': lat, # latitude\n",
    "#         'lon': lon, # longitude\n",
    "#         'year': tuple(weather_data[0]), # year\n",
    "#         'month': tuple(weather_data[1]), # month\n",
    "#         'day': tuple(weather_data[2]), # day\n",
    "#         'hour': tuple(weather_data[3]), # hour\n",
    "#         'minute': tuple(weather_data[4]), # minute\n",
    "#         'dn': tuple(weather_data[5]), # direct normal irradiance\n",
    "#         'df': tuple(weather_data[6]), # diffuse irradiance\n",
    "#         'gh': tuple(weather_data[7]), # global horizontal irradiance\n",
    "#         'wspd': tuple(weather_data[8]), # windspeed\n",
    "#         'tdry': tuple(weather_data[9]) # dry bulb temperature\n",
    "#         }\n",
    "# pv_model.unassign(\"solar_resource_file\")\n",
    "# pv_model.SolarResource.solar_resource_data = solar_resource_data\n",
    "\n",
    "#C. Download from NSRDB\n",
    "# \n",
    "# --- Initialize Solar Resource Fetcher with minimum parameters ---\n",
    "# See function documentation for full parameter list\n",
    "\n",
    "#import geocoder\n",
    "\n",
    "# replace with key and email address from https://developer.nrel.gov/signup/\n",
    "sam_api_key = os.environ.get('NREL_API_KEY')\n",
    "sam_email = os.environ.get('NREL_API_EMAIL')\n",
    "# sam_api_key = nrel_developer_key\n",
    "# sam_email = sam@email.com\n",
    "geocode_api_key = ''  # optional, may be required for geocoder\n",
    "\n",
    "# --- Location Coordinates ---\n",
    "\n",
    "# Set geocode to True to use geocoding service API\n",
    "geocode = False\n",
    "if geocode:\n",
    "    # See https://geocoder.readthedocs.io/ for different geocoding services\n",
    "    g = geocoder.bing('golden, co', key=geocode_api_key)\n",
    "    lon = g.latlng[1]\n",
    "    lat = g.latlng[0]\n",
    "else:\n",
    "    lon = -105.22\n",
    "    lat = 39.75\n",
    "nsrdbfetcher = tools.FetchResourceFiles(\n",
    "                tech='solar',\n",
    "                nrel_api_key=sam_api_key,\n",
    "                nrel_api_email=sam_email)\n",
    "\n",
    "# --- List of (lon, lat) tuples or Shapely points ---\n",
    "lon_lats = [(lon, lat)]\n",
    "nsrdbfetcher.fetch(lon_lats)\n",
    "\n",
    "# --- Get resource data file path ---\n",
    "nsrdb_path_dict = nsrdbfetcher.resource_file_paths_dict\n",
    "nsrdb_fp = nsrdb_path_dict[lon_lats[0]]\n",
    "#pv_model.SolarResource.solar_resource_file = nsrdb_fp"
   ]
  },
  {
   "cell_type": "code",
   "execution_count": 5,
   "id": "aa59f3f0-0c45-4dcc-b9a3-c6878301feab",
   "metadata": {},
   "outputs": [
    {
     "name": "stdout",
     "output_type": "stream",
     "text": [
      "5.0\n"
     ]
    }
   ],
   "source": [
    "#Step 3. Set decision point \n",
    "#Roof replacement year (years from system install), or year where decision is needed to be made between reinstall vs repower\n",
    "decision_year = 10 #years\n",
    "\n",
    "#Set module degradation from initial install to decision point\n",
    "degradation_rate = pv_model.Lifetime.dc_degradation #sequence, variable length depending on SAM input, if flat rate then length=1\n",
    "degradation_todate = 0 #initialize\n",
    "if len(degradation_rate) > 1:\n",
    "    degradation_todate = degradation_rate[-1] #Use last element in array for most recent year, degradation rates are not cumulative\n",
    "else:\n",
    "    degradation_todate = degradation_rate[0] * decision_year #Only 1 value\n",
    "\n",
    "print(degradation_todate)"
   ]
  },
  {
   "cell_type": "code",
   "execution_count": 6,
   "id": "af2f6e44-7ec3-4190-92a7-7e745c289ee6",
   "metadata": {},
   "outputs": [
    {
     "name": "stdout",
     "output_type": "stream",
     "text": [
      "[522.7371278739801, 315.6087018826586, 123.56271112026123, -54.56065151753132, -219.82998651848467, -373.22880422102685, -515.6619987955871, -647.9639562478347, -770.9034585512821, -885.1891925278132, -991.4736168245948, -1090.358345155298, -1182.3973706935594, -1268.1019045009841, -1347.9438213595809, -1422.3577947643248, -1491.7451422004203, -1556.4758177978936, -1616.8917159567081]\n",
      "[nan, nan, nan, nan, nan, nan, nan, nan, nan, nan, nan, nan, nan, nan, nan, nan, nan, nan, nan]\n"
     ]
    }
   ],
   "source": [
    "#Reinstall case - Unknown number of remaining years of life\n",
    "reinstall = pv.from_existing(pv_model)\n",
    "reinstall_financial = res.from_existing(fin_model)\n",
    "grid_model = grid.from_existing(reinstall_financial)\n",
    "ur_model = ur.from_existing(reinstall_financial)\n",
    "repower = pv.from_existing(pv_model)\n",
    "repower_financial = res.from_existing(fin_model)\n",
    "\n",
    "remaining_years = np.arange(1, 20, 1)\n",
    "reinstall_npv = []\n",
    "reinstall_payback = []\n",
    "reinstall.Losses.subarray1_nameplate_loss = degradation_todate #Set degradation calculation as a nameplate decrease in reinstalled module's power output\n",
    "reinstall_system_capacity = reinstall.SystemDesign.system_capacity * 1000 #Wdc\n",
    "reinstall_variable_cost = 0.43 #$/Wdc\n",
    "reinstall_fixed_cost = 2400 #$\n",
    "reinstall_financial.SystemCosts.total_installed_cost = reinstall_variable_cost * reinstall_system_capacity\n",
    "#reinstall_financial.SystemCosts.total_installed_cost = reinstall_fixed_cost\n",
    "for lifetime in remaining_years:\n",
    "    reinstall.Lifetime.analysis_period = lifetime\n",
    "    grid_model.Lifetime.analysis_period = lifetime\n",
    "    ur_model.Lifetime.analysis_period = lifetime\n",
    "    \n",
    "    \n",
    "    reinstall.execute()\n",
    "    grid_model.execute()\n",
    "    ur_model.execute()\n",
    "    reinstall_financial.FinancialParameters.analysis_period = lifetime\n",
    "    # reinstall_financial.SystemOutput.degradation = [0]\n",
    "    reinstall_financial.SystemOutput.gen = reinstall.Outputs.gen\n",
    "    reinstall_financial.execute()\n",
    "    reinstall_npv.append(reinstall_financial.Outputs.npv) #$\n",
    "    reinstall_payback.append(reinstall_financial.Outputs.payback) #years\n",
    "\n",
    "print(reinstall_npv)\n",
    "print(reinstall_payback)\n"
   ]
  },
  {
   "cell_type": "markdown",
   "id": "cf583281-95ab-4971-95de-4035e505a087",
   "metadata": {},
   "source": [
    "### Calculation Mode: Known new system capacity, unknown remaining lifetime for existing system"
   ]
  },
  {
   "cell_type": "code",
   "execution_count": 7,
   "id": "7199d824-1e68-4680-ae33-697852503791",
   "metadata": {},
   "outputs": [
    {
     "name": "stdout",
     "output_type": "stream",
     "text": [
      "This function does not set the bifaciality of a module based on the bifacial based on the lib_is_bifacial value. Please change cec_is_bifacial to 1 to make the module bifacial.\n",
      "{'lib_manufacturer': {'Maxeon Solar Technologies Ltd. SPR-MAX3-400-COM-R': 'Maxeon Solar Technologies Ltd.'}, 'cec_material': {'Maxeon Solar Technologies Ltd. SPR-MAX3-400-COM-R': 'Mono-c-Si'}, 'lib_is_bifacial': {'Maxeon Solar Technologies Ltd. SPR-MAX3-400-COM-R': 0}, 'Unnamed: 4': {'Maxeon Solar Technologies Ltd. SPR-MAX3-400-COM-R': 400.359}, 'Unnamed: 5': {'Maxeon Solar Technologies Ltd. SPR-MAX3-400-COM-R': 377.7}, 'cec_area': {'Maxeon Solar Technologies Ltd. SPR-MAX3-400-COM-R': 1.9}, 'lib_length': {'Maxeon Solar Technologies Ltd. SPR-MAX3-400-COM-R': nan}, 'lib_width': {'Maxeon Solar Technologies Ltd. SPR-MAX3-400-COM-R': nan}, 'cec_n_s': {'Maxeon Solar Technologies Ltd. SPR-MAX3-400-COM-R': 112}, 'cec_i_sc_ref': {'Maxeon Solar Technologies Ltd. SPR-MAX3-400-COM-R': 13.06}, 'cec_v_oc_ref': {'Maxeon Solar Technologies Ltd. SPR-MAX3-400-COM-R': 40.6}, 'cec_i_mp_ref': {'Maxeon Solar Technologies Ltd. SPR-MAX3-400-COM-R': 11.81}, 'cec_v_mp_ref': {'Maxeon Solar Technologies Ltd. SPR-MAX3-400-COM-R': 33.9}, 'cec_alpha_sc': {'Maxeon Solar Technologies Ltd. SPR-MAX3-400-COM-R': 0.005877}, 'cec_beta_oc': {'Maxeon Solar Technologies Ltd. SPR-MAX3-400-COM-R': -0.095004}, 'cec_t_noct': {'Maxeon Solar Technologies Ltd. SPR-MAX3-400-COM-R': 46.0}, 'cec_a_ref': {'Maxeon Solar Technologies Ltd. SPR-MAX3-400-COM-R': 1.43966}, 'cec_i_l_ref': {'Maxeon Solar Technologies Ltd. SPR-MAX3-400-COM-R': 13.5369}, 'cec_i_o_ref': {'Maxeon Solar Technologies Ltd. SPR-MAX3-400-COM-R': 6.86127e-12}, 'cec_r_s': {'Maxeon Solar Technologies Ltd. SPR-MAX3-400-COM-R': 0.174661}, 'cec_r_sh_ref': {'Maxeon Solar Technologies Ltd. SPR-MAX3-400-COM-R': 28.9405}, 'cec_adjust': {'Maxeon Solar Technologies Ltd. SPR-MAX3-400-COM-R': 10.2786}, 'cec_gamma_pmp': {'Maxeon Solar Technologies Ltd. SPR-MAX3-400-COM-R': -0.28}, 'Unnamed: 24': {'Maxeon Solar Technologies Ltd. SPR-MAX3-400-COM-R': 'N'}, 'Unnamed: 25': {'Maxeon Solar Technologies Ltd. SPR-MAX3-400-COM-R': '2023.12.17'}, 'Unnamed: 26': {'Maxeon Solar Technologies Ltd. SPR-MAX3-400-COM-R': '11/14/2024'}}\n"
     ]
    }
   ],
   "source": [
    "#Repower case - Known system size, lifetime\n",
    "grid_model = grid.from_existing(repower_financial)\n",
    "ur_model = ur.from_existing(repower_financial)\n",
    "\n",
    "capacity_min = 5 #kW\n",
    "capacity_max = 10 #kW\n",
    "\n",
    "new_system_analysis_period = 30 #years\n",
    "repower.Lifetime.analysis_period = new_system_analysis_period\n",
    "grid_model.Lifetime.analysis_period = new_system_analysis_period\n",
    "ur_model.Lifetime.analysis_period = new_system_analysis_period\n",
    "\n",
    "new_system_capacity = 8 #kWDC\n",
    "repower_cost_per_wdc = 2.76 #$/Wdc\n",
    "repower_cost_flat = 10000 #$\n",
    "repower_npv = 0\n",
    "repower_payback = 0\n",
    "#Select new module?\n",
    "mod_dict = PySAM.Pvsamv1Tools.set_cec_module_library_selection(repower, \"Maxeon Solar Technologies Ltd. SPR-MAX3-400-COM-R\")\n",
    "print(mod_dict)\n",
    "\n",
    "n_strings, n_combiners, n_inverters, calculated_system_capacity = pvtools.size_electrical_parameters(repower, new_system_capacity, 1.06)\n",
    "\n",
    "repower.execute()\n",
    "grid_model.execute()\n",
    "ur_model.execute()\n",
    "repower_financial.SystemOutput.gen = repower.Outputs.gen\n",
    "repower_financial.SystemCosts.total_installed_cost = repower_cost_per_wdc * repower.SystemDesign.system_capacity * 1000\n",
    "#ITC 30%\n",
    "repower_financial.TaxCreditIncentives.itc_fed_percent = [30]\n",
    "# repower_financial.SystemCosts.total_installed_cost = repower_cost_flat\n",
    "\n",
    "repower_financial.execute()\n",
    "repower_npv = repower_financial.Outputs.npv\n",
    "repower_payback = repower_financial.Outputs.payback\n",
    "    "
   ]
  },
  {
   "cell_type": "code",
   "execution_count": 8,
   "id": "2cb77768-babf-47f9-8c5b-a2caafa59f9c",
   "metadata": {},
   "outputs": [
    {
     "name": "stderr",
     "output_type": "stream",
     "text": [
      "C:\\Users\\mprillim\\AppData\\Local\\anaconda3\\Lib\\site-packages\\seaborn\\_oldcore.py:1119: FutureWarning: use_inf_as_na option is deprecated and will be removed in a future version. Convert inf values to NaN before operating instead.\n",
      "  with pd.option_context('mode.use_inf_as_na', True):\n",
      "C:\\Users\\mprillim\\AppData\\Local\\anaconda3\\Lib\\site-packages\\seaborn\\_oldcore.py:1119: FutureWarning: use_inf_as_na option is deprecated and will be removed in a future version. Convert inf values to NaN before operating instead.\n",
      "  with pd.option_context('mode.use_inf_as_na', True):\n",
      "C:\\Users\\mprillim\\AppData\\Local\\anaconda3\\Lib\\site-packages\\seaborn\\_oldcore.py:1119: FutureWarning: use_inf_as_na option is deprecated and will be removed in a future version. Convert inf values to NaN before operating instead.\n",
      "  with pd.option_context('mode.use_inf_as_na', True):\n",
      "C:\\Users\\mprillim\\AppData\\Local\\anaconda3\\Lib\\site-packages\\seaborn\\_oldcore.py:1119: FutureWarning: use_inf_as_na option is deprecated and will be removed in a future version. Convert inf values to NaN before operating instead.\n",
      "  with pd.option_context('mode.use_inf_as_na', True):\n"
     ]
    },
    {
     "data": {
      "image/png": "[encoded data removed]",
      "text/plain": [
       "<Figure size 1000x600 with 1 Axes>"
      ]
     },
     "metadata": {},
     "output_type": "display_data"
    }
   ],
   "source": [
    "import seaborn as sns\n",
    "import matplotlib.pyplot as plt\n",
    "import numpy as np\n",
    "import pandas as pd\n",
    "\n",
    "# Sample data\n",
    "data = pd.DataFrame({\n",
    "    'x1': remaining_years,\n",
    "    'y1': reinstall_npv,\n",
    "    \n",
    "})\n",
    "\n",
    "data['y2'] = repower_npv\n",
    "\n",
    "# Create the main plot\n",
    "fig, ax1 = plt.subplots(figsize=(10, 6))\n",
    "sns.lineplot(x='x1', y='y1', data=data, ax=ax1, color='blue', label='reinstall')\n",
    "ax1.set_xlabel('Original system remaining lifetime (years)')\n",
    "ax1.set_ylabel('NPV')\n",
    "\n",
    "# Create the second x-axis\n",
    "sns.lineplot(x='x1', y='y2', data=data, ax=ax1, color='orange', label='repower')\n",
    "#ax2.set_xbound(ax1.get_xbound())\n",
    "#plt.legend(['reinstall', 'repower'])\n",
    "\n",
    "# Display the plot\n",
    "plt.show()"
   ]
  },
  {
   "cell_type": "markdown",
   "id": "afef2d6f-d609-49ad-aed1-c0ac753db7f9",
   "metadata": {},
   "source": [
    "### Alternative calculation mode: Unknown new system capacity, known remaining lifetime for existing system"
   ]
  },
  {
   "cell_type": "code",
   "execution_count": 9,
   "id": "5b07a0fc-6bfd-4a07-b2b2-29d2d53b3c52",
   "metadata": {},
   "outputs": [
    {
     "name": "stdout",
     "output_type": "stream",
     "text": [
      "This function does not set the bifaciality of a module based on the bifacial based on the lib_is_bifacial value. Please change cec_is_bifacial to 1 to make the module bifacial.\n",
      "{'lib_manufacturer': {'Maxeon Solar Technologies Ltd. SPR-MAX3-400-COM-R': 'Maxeon Solar Technologies Ltd.'}, 'cec_material': {'Maxeon Solar Technologies Ltd. SPR-MAX3-400-COM-R': 'Mono-c-Si'}, 'lib_is_bifacial': {'Maxeon Solar Technologies Ltd. SPR-MAX3-400-COM-R': 0}, 'Unnamed: 4': {'Maxeon Solar Technologies Ltd. SPR-MAX3-400-COM-R': 400.359}, 'Unnamed: 5': {'Maxeon Solar Technologies Ltd. SPR-MAX3-400-COM-R': 377.7}, 'cec_area': {'Maxeon Solar Technologies Ltd. SPR-MAX3-400-COM-R': 1.9}, 'lib_length': {'Maxeon Solar Technologies Ltd. SPR-MAX3-400-COM-R': nan}, 'lib_width': {'Maxeon Solar Technologies Ltd. SPR-MAX3-400-COM-R': nan}, 'cec_n_s': {'Maxeon Solar Technologies Ltd. SPR-MAX3-400-COM-R': 112}, 'cec_i_sc_ref': {'Maxeon Solar Technologies Ltd. SPR-MAX3-400-COM-R': 13.06}, 'cec_v_oc_ref': {'Maxeon Solar Technologies Ltd. SPR-MAX3-400-COM-R': 40.6}, 'cec_i_mp_ref': {'Maxeon Solar Technologies Ltd. SPR-MAX3-400-COM-R': 11.81}, 'cec_v_mp_ref': {'Maxeon Solar Technologies Ltd. SPR-MAX3-400-COM-R': 33.9}, 'cec_alpha_sc': {'Maxeon Solar Technologies Ltd. SPR-MAX3-400-COM-R': 0.005877}, 'cec_beta_oc': {'Maxeon Solar Technologies Ltd. SPR-MAX3-400-COM-R': -0.095004}, 'cec_t_noct': {'Maxeon Solar Technologies Ltd. SPR-MAX3-400-COM-R': 46.0}, 'cec_a_ref': {'Maxeon Solar Technologies Ltd. SPR-MAX3-400-COM-R': 1.43966}, 'cec_i_l_ref': {'Maxeon Solar Technologies Ltd. SPR-MAX3-400-COM-R': 13.5369}, 'cec_i_o_ref': {'Maxeon Solar Technologies Ltd. SPR-MAX3-400-COM-R': 6.86127e-12}, 'cec_r_s': {'Maxeon Solar Technologies Ltd. SPR-MAX3-400-COM-R': 0.174661}, 'cec_r_sh_ref': {'Maxeon Solar Technologies Ltd. SPR-MAX3-400-COM-R': 28.9405}, 'cec_adjust': {'Maxeon Solar Technologies Ltd. SPR-MAX3-400-COM-R': 10.2786}, 'cec_gamma_pmp': {'Maxeon Solar Technologies Ltd. SPR-MAX3-400-COM-R': -0.28}, 'Unnamed: 24': {'Maxeon Solar Technologies Ltd. SPR-MAX3-400-COM-R': 'N'}, 'Unnamed: 25': {'Maxeon Solar Technologies Ltd. SPR-MAX3-400-COM-R': '2023.12.17'}, 'Unnamed: 26': {'Maxeon Solar Technologies Ltd. SPR-MAX3-400-COM-R': '11/14/2024'}}\n"
     ]
    }
   ],
   "source": [
    "#Repower case\n",
    "grid_model = grid.from_existing(repower_financial)\n",
    "ur_model = ur.from_existing(repower_financial)\n",
    "\n",
    "capacity_min = 5 #kW\n",
    "capacity_max = 10 #kW\n",
    "\n",
    "new_system_analysis_period = 30 #years\n",
    "repower.Lifetime.analysis_period = new_system_analysis_period\n",
    "grid_model.Lifetime.analysis_period = new_system_analysis_period\n",
    "ur_model.Lifetime.analysis_period = new_system_analysis_period\n",
    "\n",
    "capacity_range = np.arange(8,12,0.2)\n",
    "repower_cost_per_wdc = 0.80 #$/Wdc\n",
    "repower_cost_flat = 10000 #$\n",
    "repower_npv = []\n",
    "repower_payback = []\n",
    "#Select new module?\n",
    "mod_dict = PySAM.Pvsamv1Tools.set_cec_module_library_selection(repower, \"Maxeon Solar Technologies Ltd. SPR-MAX3-400-COM-R\")\n",
    "print(mod_dict)\n",
    "for sys_cap in capacity_range:\n",
    "    n_strings, n_combiners, n_inverters, calculated_system_capacity = pvtools.size_electrical_parameters(repower, sys_cap, 1.06)\n",
    "    \n",
    "    repower.execute()\n",
    "    grid_model.execute()\n",
    "    ur_model.execute()\n",
    "    repower_financial.SystemOutput.gen = reinstall.Outputs.gen\n",
    "    repower_financial.SystemCosts.total_installed_cost = repower_cost_per_wdc * repower.SystemDesign.system_capacity * 1000\n",
    "    repower_financial.TaxCreditIncentives.itc_fed_percent = [30]\n",
    "    # repower_financial.SystemCosts.total_installed_cost = repower_cost_flat\n",
    "\n",
    "    repower_financial.execute()\n",
    "    repower_npv.append(repower_financial.Outputs.npv)\n",
    "    repower_payback.append(repower_financial.Outputs.payback)\n",
    "    "
   ]
  },
  {
   "cell_type": "code",
   "execution_count": 10,
   "id": "11488673-5377-4ab7-94b0-fe76287d373b",
   "metadata": {},
   "outputs": [
    {
     "name": "stdout",
     "output_type": "stream",
     "text": [
      "1937.302874904512\n",
      "6.733863706073672\n"
     ]
    }
   ],
   "source": [
    "#Reinstall case - Unknown number of remaining years of life\n",
    "reinstall = pv.from_existing(pv_model)\n",
    "reinstall_financial = res.from_existing(fin_model)\n",
    "grid_model = grid.from_existing(reinstall_financial)\n",
    "ur_model = ur.from_existing(reinstall_financial)\n",
    "repower = pv.from_existing(pv_model)\n",
    "repower_financial = res.from_existing(fin_model)\n",
    "\n",
    "lifetime = 15 #years, user input for years of remaining life\n",
    "reinstall_npv = 0\n",
    "reinstall_payback = 0\n",
    "reinstall.Losses.subarray1_nameplate_loss = degradation_todate\n",
    "reinstall_system_capacity = reinstall.SystemDesign.system_capacity * 1000 #Wdc\n",
    "reinstall_variable_cost = 0.30 #$/Wdc\n",
    "reinstall_fixed_cost = 2400 #$\n",
    "reinstall_financial.SystemCosts.total_installed_cost = reinstall_variable_cost * reinstall_system_capacity\n",
    "#reinstall_financial.SystemCosts.total_installed_cost = reinstall_fixed_cost\n",
    "\n",
    "reinstall.Lifetime.analysis_period = lifetime\n",
    "grid_model.Lifetime.analysis_period = lifetime\n",
    "ur_model.Lifetime.analysis_period = lifetime\n",
    "\n",
    "\n",
    "reinstall.execute()\n",
    "grid_model.execute()\n",
    "ur_model.execute()\n",
    "reinstall_financial.FinancialParameters.analysis_period = lifetime\n",
    "reinstall_financial.SystemOutput.degradation = [0]\n",
    "reinstall_financial.SystemOutput.gen = reinstall.Outputs.gen\n",
    "reinstall_financial.execute()\n",
    "reinstall_npv = reinstall_financial.Outputs.npv #$\n",
    "reinstall_payback = reinstall_financial.Outputs.payback #years\n",
    "\n",
    "print(reinstall_npv)\n",
    "print(reinstall_payback)\n"
   ]
  },
  {
   "cell_type": "code",
   "execution_count": 11,
   "id": "a896c367-131c-4c9e-a1ea-2dbf9c59fb6c",
   "metadata": {},
   "outputs": [
    {
     "name": "stderr",
     "output_type": "stream",
     "text": [
      "C:\\Users\\mprillim\\AppData\\Local\\anaconda3\\Lib\\site-packages\\seaborn\\_oldcore.py:1119: FutureWarning: use_inf_as_na option is deprecated and will be removed in a future version. Convert inf values to NaN before operating instead.\n",
      "  with pd.option_context('mode.use_inf_as_na', True):\n",
      "C:\\Users\\mprillim\\AppData\\Local\\anaconda3\\Lib\\site-packages\\seaborn\\_oldcore.py:1119: FutureWarning: use_inf_as_na option is deprecated and will be removed in a future version. Convert inf values to NaN before operating instead.\n",
      "  with pd.option_context('mode.use_inf_as_na', True):\n",
      "C:\\Users\\mprillim\\AppData\\Local\\anaconda3\\Lib\\site-packages\\seaborn\\_oldcore.py:1119: FutureWarning: use_inf_as_na option is deprecated and will be removed in a future version. Convert inf values to NaN before operating instead.\n",
      "  with pd.option_context('mode.use_inf_as_na', True):\n",
      "C:\\Users\\mprillim\\AppData\\Local\\anaconda3\\Lib\\site-packages\\seaborn\\_oldcore.py:1119: FutureWarning: use_inf_as_na option is deprecated and will be removed in a future version. Convert inf values to NaN before operating instead.\n",
      "  with pd.option_context('mode.use_inf_as_na', True):\n"
     ]
    },
    {
     "data": {
      "image/png": "[encoded data removed]",
      "text/plain": [
       "<Figure size 1000x600 with 1 Axes>"
      ]
     },
     "metadata": {},
     "output_type": "display_data"
    }
   ],
   "source": [
    "import seaborn as sns\n",
    "import matplotlib.pyplot as plt\n",
    "import numpy as np\n",
    "import pandas as pd\n",
    "\n",
    "# Sample data\n",
    "data = pd.DataFrame({\n",
    "    'x1': capacity_range,\n",
    "    'y1': repower_npv,\n",
    "    \n",
    "})\n",
    "\n",
    "data['y2'] = reinstall_npv\n",
    "\n",
    "# Create the main plot\n",
    "fig, ax1 = plt.subplots(figsize=(10, 6))\n",
    "sns.lineplot(x='x1', y='y2', data=data, ax=ax1, color='blue', label='reinstall')\n",
    "ax1.set_xlabel('Original system remaining lifetime (years)')\n",
    "ax1.set_ylabel('NPV')\n",
    "\n",
    "# Create the second x-axis\n",
    "sns.lineplot(x='x1', y='y1', data=data, ax=ax1, color='orange', label='repower')\n",
    "#ax2.set_xbound(ax1.get_xbound())\n",
    "#plt.legend(['repower', 'reinstall'])\n",
    "\n",
    "# Display the plot\n",
    "plt.show()"
   ]
  },
  {
   "cell_type": "code",
   "execution_count": 12,
   "id": "6d75e878-4d07-4c3b-92c6-33db06a874de",
   "metadata": {},
   "outputs": [],
   "source": [
    "#Make decision on repower vs install, run PV_ICE\n",
    "import PV_ICE as pvice\n"
   ]
  },
  {
   "cell_type": "code",
   "execution_count": 13,
   "id": "5d3cf9fa-09d3-49d9-b8f9-75fb1be827a4",
   "metadata": {},
   "outputs": [],
   "source": [
    "#Second life for free case?\n"
   ]
  }
 ],
 "metadata": {
  "kernelspec": {
   "display_name": "Python 3 (ipykernel)",
   "language": "python",
   "name": "python3"
  },
  "language_info": {
   "codemirror_mode": {
    "name": "ipython",
    "version": 3
   },
   "file_extension": ".py",
   "mimetype": "text/x-python",
   "name": "python",
   "nbconvert_exporter": "python",
   "pygments_lexer": "ipython3",
   "version": "3.11.7"
  }
 },
 "nbformat": 4,
 "nbformat_minor": 5
}
