{
 "cells": [
  {
   "cell_type": "code",
   "execution_count": 1,
   "id": "64c8d544-99ac-4386-88fb-5bdb51f0e15c",
   "metadata": {},
   "outputs": [],
   "source": [
    "#Imports\n",
    "import PySAM\n",
    "import PV_ICE\n",
    "import pandas as pd\n",
    "import numpy as np\n",
    "import json\n",
    "import os\n",
    "from PySAM import Pvsamv1 as pv\n",
    "from PySAM import Pvwattsv8 as pvwatts\n",
    "from PySAM import Cashloan as res\n",
    "from PySAM import Grid as grid\n",
    "from PySAM import Utilityrate5 as ur\n",
    "import PySAM.Pvsamv1Tools as pvtools\n",
    "import PySAM.ResourceTools as tools"
   ]
  },
  {
   "cell_type": "code",
   "execution_count": 2,
   "id": "5f755c2a-dcda-47f2-b861-b97c6ad3e573",
   "metadata": {},
   "outputs": [
    {
     "name": "stdout",
     "output_type": "stream",
     "text": [
      "Working on a  Windows 10\n",
      "Python version  3.11.7 | packaged by Anaconda, Inc. | (main, Dec 15 2023, 18:05:47) [MSC v.1916 64 bit (AMD64)]\n",
      "Pandas version  2.1.4\n",
      "PySAM version  7.0.0\n",
      "PV_ICE version  0.4.4.dev2+g378a012.d20250320\n"
     ]
    }
   ],
   "source": [
    "# This information helps with debugging and getting support :)\n",
    "import sys, platform\n",
    "print(\"Working on a \", platform.system(), platform.release())\n",
    "print(\"Python version \", sys.version)\n",
    "print(\"Pandas version \", pd.__version__)\n",
    "print(\"PySAM version \", PySAM.__version__)\n",
    "print(\"PV_ICE version \", PV_ICE.__version__)"
   ]
  },
  {
   "attachments": {},
   "cell_type": "markdown",
   "id": "d31d2f57-fbe3-4962-b5c3-c74cb9bffc32",
   "metadata": {},
   "source": [
    "##  Second Life Owner School Case Study\n",
    "A cschool decides between using recycled panels from a prior system or a newly built system with new panels\n"
   ]
  },
  {
   "cell_type": "code",
   "execution_count": 4,
   "id": "bdb4944e-9818-431f-9f93-6662fe1b02ff",
   "metadata": {},
   "outputs": [],
   "source": [
    "# Set up base case\n",
    "pv_model = pvwatts.default(\"Pvwattsv8Commercial\")\n",
    "ur_model = ur.from_existing(pv_model)\n",
    "grid_model = grid.from_existing(pv_model)\n",
    "fin_model = res.from_existing(pv_model)\n",
    "\n",
    "for json_file in os.listdir('PBL 3_Data'):\n",
    "    # get the inputs from the JSON file\n",
    "    with open( 'PBL 3_Data/' + json_file, 'r') as f:\n",
    "            pv_inputs = json.load( f )\n",
    "    \n",
    "    # iterate through the input key-value pairs and set the module inputs\n",
    "    for k, v in pv_inputs.items():\n",
    "        if k != 'number_inputs':\n",
    "            try:\n",
    "                pv_model.value(k, v)\n",
    "            except:\n",
    "                try:\n",
    "                    ur_model.value(k, v)\n",
    "                except:\n",
    "                    try:\n",
    "                        grid_model.value(k, v)\n",
    "                    except:\n",
    "                        try:\n",
    "                            fin_model.value(k, v)\n",
    "                        except:\n",
    "                            print(\"Variable not found in modules\")\n",
    "\n",
    "# grid_model = grid.from_existing(pv_model)\n",
    "# ur_model = ur.from_existing(pv_model)\n",
    "# fin_model = com.from_existing(pv_model)\n"
   ]
  },
  {
   "cell_type": "code",
   "execution_count": 5,
   "id": "e2b4a43d-8899-499f-8d15-916277712d00",
   "metadata": {},
   "outputs": [
    {
     "name": "stdout",
     "output_type": "stream",
     "text": [
      "\n",
      "Starting data download for solar using 1 thread workers.\n",
      "Getting list of available NSRDB files for 39.75, -105.22.\n",
      "Error for 39.75, -105.22: {\n",
      "  \"error\": {\n",
      "    \"code\": \"API_KEY_INVALID\",\n",
      "    \"message\": \"An invalid api_key was supplied. Get one at https://developer.nrel.gov/signup/\"\n",
      "  }\n",
      "}\n"
     ]
    }
   ],
   "source": [
    "# Download resource data\n",
    "#Read in weather data from SAM, or use NSRDB downloads in SAM format, or use dictionary of solar data\n",
    "#A. You already have a file\n",
    "weather_file = \"data/CO_weather_data.csv\"\n",
    "pv_model.SolarResource.solar_resource_file = weather_file\n",
    "\n",
    "#B. solar_resource_data\n",
    "# weather_data = PySAM.ResourceTools.SAM_CSV_to_solar_data(weather_file)\n",
    "# solar_resource_data = {\n",
    "#         'tz': tz, # timezone\n",
    "#         'elev': elev, # elevation\n",
    "#         'lat': lat, # latitude\n",
    "#         'lon': lon, # longitude\n",
    "#         'year': tuple(weather_data[0]), # year\n",
    "#         'month': tuple(weather_data[1]), # month\n",
    "#         'day': tuple(weather_data[2]), # day\n",
    "#         'hour': tuple(weather_data[3]), # hour\n",
    "#         'minute': tuple(weather_data[4]), # minute\n",
    "#         'dn': tuple(weather_data[5]), # direct normal irradiance\n",
    "#         'df': tuple(weather_data[6]), # diffuse irradiance\n",
    "#         'gh': tuple(weather_data[7]), # global horizontal irradiance\n",
    "#         'wspd': tuple(weather_data[8]), # windspeed\n",
    "#         'tdry': tuple(weather_data[9]) # dry bulb temperature\n",
    "#         }\n",
    "# pv_model.unassign(\"solar_resource_file\")\n",
    "# pv_model.SolarResource.solar_resource_data = solar_resource_data\n",
    "\n",
    "#C. Download from NSRDB\n",
    "# \n",
    "# --- Initialize Solar Resource Fetcher with minimum parameters ---\n",
    "# See function documentation for full parameter list\n",
    "\n",
    "#import geocoder\n",
    "\n",
    "# replace with key and email address from https://developer.nrel.gov/signup/\n",
    "sam_api_key = os.environ.get('NREL_API_KEY')\n",
    "sam_email = os.environ.get('NREL_API_EMAIL')\n",
    "# sam_api_key = nrel_developer_key\n",
    "# sam_email = sam@email.com\n",
    "geocode_api_key = ''  # optional, may be required for geocoder\n",
    "\n",
    "# --- Location Coordinates ---\n",
    "\n",
    "# Set geocode to True to use geocoding service API\n",
    "geocode = False\n",
    "if geocode:\n",
    "    # See https://geocoder.readthedocs.io/ for different geocoding services\n",
    "    g = geocoder.bing('golden, co', key=geocode_api_key)\n",
    "    lon = g.latlng[1]\n",
    "    lat = g.latlng[0]\n",
    "else:\n",
    "    lon = -105.22\n",
    "    lat = 39.75\n",
    "nsrdbfetcher = tools.FetchResourceFiles(\n",
    "                tech='solar',\n",
    "                nrel_api_key=sam_api_key,\n",
    "                nrel_api_email=sam_email)\n",
    "\n",
    "# --- List of (lon, lat) tuples or Shapely points ---\n",
    "lon_lats = [(lon, lat)]\n",
    "nsrdbfetcher.fetch(lon_lats)\n",
    "\n",
    "# --- Get resource data file path ---\n",
    "nsrdb_path_dict = nsrdbfetcher.resource_file_paths_dict\n",
    "nsrdb_fp = nsrdb_path_dict[lon_lats[0]]\n",
    "#pv_model.SolarResource.solar_resource_file = nsrdb_fp"
   ]
  },
  {
   "attachments": {},
   "cell_type": "markdown",
   "id": "41276a95-5e1e-4a1a-a1fb-7b86d932d311",
   "metadata": {},
   "source": [
    "### System Info: New build case\n",
    "\n",
    "-Module disposition: New\n",
    "\n",
    "-Remaining system lifetime: 30 years\n",
    "\n",
    "-Costs: 2.76 $/Wdc\n",
    "\n",
    "-Module: \n",
    "\n"
   ]
  },
  {
   "cell_type": "code",
   "execution_count": 6,
   "id": "4cde3a26-29eb-4511-986b-793d06053457",
   "metadata": {},
   "outputs": [],
   "source": [
    "# A. Decommissioning case\n",
    "decommissioning_cost = 0.25 * 1.10 #cents/W, assumed 0.25 for Colorado increased by 10% to California\n",
    "decommissioning_cost_total = decommissioning_cost * pv_model.SystemDesign.system_capacity * 1000\n",
    "\n",
    "recycling_cost = 16200\n",
    "#No generation, no incentives\n",
    "npv = []\n",
    "payback_period = []\n",
    "npv.append(-1 * (decommissioning_cost_total + recycling_cost))\n",
    "#There is no payback period\n",
    "payback_period.append(float('nan'))"
   ]
  },
  {
   "attachments": {},
   "cell_type": "markdown",
   "id": "aebb69aa-71c8-4262-b348-070a534c2561",
   "metadata": {},
   "source": [
    "### System Info: Reinstall case\n",
    "\n",
    "-Building Height: 1 story\n",
    "\n",
    "-Mounting Technology: Keep racking\n",
    "\n",
    "-Module disposition: NA\n",
    "\n",
    "-Remaining system lifetime: 12 years (user sets)\n",
    "\n",
    "-Costs: 1.5x the decommissioning cost (estimated)\n",
    "\n",
    "-Labor/Other: NA\n",
    "\n"
   ]
  },
  {
   "cell_type": "code",
   "execution_count": 7,
   "id": "36d09bbb-7dcd-472e-b8cf-416a9969a849",
   "metadata": {},
   "outputs": [],
   "source": [
    "# B. Reinstall case\n",
    "reinstall_cost = 0.58 #cents/W (modified by user)\n",
    "reinstall_cost_total = reinstall_cost * pv_model.SystemDesign.system_capacity * 1000\n",
    "\n",
    "#System specs stay the same\n",
    "pv_model.execute()\n",
    "grid_model = grid.from_existing(pv_model)\n",
    "ur_model = ur.from_existing(pv_model)\n",
    "fin_model = com.from_existing(pv_model)\n",
    "grid_model.execute()\n",
    "ur_model.execute()\n",
    "\n",
    "#Set system costs\n",
    "fin_model.SystemCosts.total_installed_cost = reinstall_cost_total\n",
    "#Optional: modify loan terms\n",
    "# fin_model.FinancialParameters.debt_fraction = 100 #%\n",
    "# fin_model.FinancialParameters.loan_term = 12 #years\n",
    "# fin_model.FinancialParameters.loan_rate = 7 #%/year\n",
    "\n",
    "\n",
    "fin_model.execute()\n",
    "npv.append(fin_model.Outputs.npv)\n",
    "payback_period.append(fin_model.Outputs.payback)\n",
    "\n"
   ]
  },
  {
   "attachments": {},
   "cell_type": "markdown",
   "id": "cf83808c-f860-40dd-a9d3-5dd18f81912d",
   "metadata": {},
   "source": [
    "### System Info: Repower + scrap case\n",
    "\n",
    "-Building Height: 1 story\n",
    "\n",
    "-Mounting Technology: Keep racking\n",
    "\n",
    "-Module disposition: New module cost + Recycle\n",
    "\n",
    "-Remaining system lifetime: 30 years (user sets)\n",
    "\n",
    "-Costs: \\\\$1/W to \\\\$2.50/W OR 10-30% adder above greenfield; \n",
    "Recycling: $10/panel\n",
    "\n",
    "-Labor/Other:To not renegotiate, new system size must not be >10% or less than 1kW greaterA\n",
    "\n"
   ]
  },
  {
   "cell_type": "code",
   "execution_count": 8,
   "id": "9d086b97-902b-4075-a66d-11b26201d5d8",
   "metadata": {},
   "outputs": [
    {
     "name": "stdout",
     "output_type": "stream",
     "text": [
      "This function does not set the bifaciality of a module based on the bifacial based on the lib_is_bifacial value. Please change cec_is_bifacial to 1 to make the module bifacial.\n"
     ]
    }
   ],
   "source": [
    "# C. Repower + scrap\n",
    "repower = pv_model\n",
    "mod_dict = pvtools.set_cec_module_library_selection(repower, \"Aptos Solar Technology LLC DNA-144-BF10-530W\")\n",
    "sys_cap = 504 #kWDC\n",
    "repower.Lifetime.analysis_period = 30 #years\n",
    "n_strings, n_combiners, n_inverters, calculated_system_capacity = pvtools.size_electrical_parameters(repower, sys_cap, 1.1)\n",
    "\n",
    "repower.execute()\n",
    "grid_model = grid.from_existing(repower)\n",
    "ur_model = ur.from_existing(repower)\n",
    "fin_model = com.from_existing(repower)\n",
    "\n",
    "grid_model.execute()\n",
    "ur_model.execute()\n",
    "\n",
    "repower_cost = 2.21 #$/Wdc\n",
    "repower_cost_total = repower_cost * repower.SystemDesign.system_capacity * 1000\n",
    "recycle_cost = 16200\n",
    "total_installed_cost = repower_cost_total + recycle_cost\n",
    "\n",
    "#Optional: modify loan terms\n",
    "# fin_model.FinancialParameters.debt_fraction = 100 #%\n",
    "# fin_model.FinancialParameters.loan_term = 12 #years\n",
    "# fin_model.FinancialParameters.loan_rate = 7 #%/year\n",
    "\n",
    "fin_model.TaxCreditIncentives.itc_fed_amount = [291818] #30%, accounting for depreciation \n",
    "fin_model.SystemCosts.total_installed_cost = total_installed_cost\n",
    "fin_model.execute()\n",
    "bill_savings = ur_model.Outputs.savings_year1\n",
    "npv.append(fin_model.Outputs.npv)\n",
    "payback_period.append(fin_model.Outputs.payback)\n",
    "\n"
   ]
  },
  {
   "attachments": {},
   "cell_type": "markdown",
   "id": "6bf6d1cc-20d4-40ed-bd53-8284175090f6",
   "metadata": {},
   "source": [
    "### System Info: Repower + resell case\n",
    "\n",
    "-Building Height: 1 story\n",
    "\n",
    "-Mounting Technology: Keep racking\n",
    "\n",
    "-Module disposition: New module cost + Resell\n",
    "\n",
    "-Remaining system lifetime: 30 years (user sets)\n",
    "\n",
    "-Costs: \\\\$1/W to \\\\$2.50/W OR 10-30% adder above greenfield; \n",
    "Resell: \\\\$0.05-0.6/W (only if >300W)\r\n",
    "\n",
    "-Labor/Other:To not renegotiate, new system size must not be >10% or less than 1kW greaterA\n",
    "\n"
   ]
  },
  {
   "cell_type": "code",
   "execution_count": 9,
   "id": "68f5dcce-c420-4594-9fee-7ceea3fe0604",
   "metadata": {},
   "outputs": [],
   "source": [
    "# D. Repower + resell\n",
    "#Run after Repower + scrap case, then no need to re-run performance calculations, only financials\n",
    "\n",
    "repower_cost = 2.21 #$/Wdc\n",
    "repower_cost_total = repower_cost * repower.SystemDesign.system_capacity * 1000\n",
    "recycle_cost = -25210\n",
    "total_installed_cost = repower_cost_total + recycle_cost\n",
    "\n",
    "#Optional: modify loan terms\n",
    "# fin_model.FinancialParameters.debt_fraction = 100 #%\n",
    "# fin_model.FinancialParameters.loan_term = 12 #years\n",
    "# fin_model.FinancialParameters.loan_rate = 7 #%/year\n",
    "\n",
    "fin_model.SystemCosts.total_installed_cost = total_installed_cost\n",
    "fin_model.TaxCreditIncentives.itc_fed_amount = [291818] #30%, accounting for depreciation \n",
    "fin_model.execute()\n",
    "bill_savings = ur_model.Outputs.savings_year1\n",
    "npv.append(fin_model.Outputs.npv)\n",
    "payback_period.append(fin_model.Outputs.payback)\n",
    "labels = [\"Decommission\", \"Reinstall\", \"Repower + scrap\", \"Repower + resell\"]\n"
   ]
  },
  {
   "cell_type": "code",
   "execution_count": 10,
   "id": "d01a6c6a-4a57-4fba-9071-4d6cca60b54c",
   "metadata": {},
   "outputs": [
    {
     "name": "stdout",
     "output_type": "stream",
     "text": [
      "                  0              1         2\n",
      "0      Decommission   -154371.3795       NaN\n",
      "1         Reinstall  547956.448951   2.87441\n",
      "2   Repower + scrap  607599.131649  7.808715\n",
      "3  Repower + resell    641042.9471  7.457562\n",
      "             labels            npv   payback\n",
      "0      Decommission   -154371.3795       NaN\n",
      "1         Reinstall  547956.448951   2.87441\n",
      "2   Repower + scrap  607599.131649  7.808715\n",
      "3  Repower + resell    641042.9471  7.457562\n"
     ]
    },
    {
     "data": {
      "text/plain": [
       "<Axes: xlabel='labels', ylabel='npv'>"
      ]
     },
     "execution_count": 10,
     "metadata": {},
     "output_type": "execute_result"
    },
    {
     "data": {
      "image/png": "[encoded data removed]",
      "text/plain": [
       "<Figure size 640x480 with 1 Axes>"
      ]
     },
     "metadata": {},
     "output_type": "display_data"
    }
   ],
   "source": [
    "# Graphing\n",
    "import seaborn as sns\n",
    "import matplotlib.pyplot as plt\n",
    "import numpy as np\n",
    "import pandas as pd\n",
    "data = pd.DataFrame([labels, npv, payback_period])\n",
    "data = data.transpose()\n",
    "print(data)\n",
    "data.columns = [\"labels\", \"npv\", \"payback\"]\n",
    "print(data)\n",
    "\n",
    "sns.barplot(data, x=\"labels\", y=\"npv\")\n"
   ]
  },
  {
   "cell_type": "code",
   "execution_count": 47,
   "id": "46ac2cef-ffd2-4e2f-9230-cb899a993a1d",
   "metadata": {},
   "outputs": [
    {
     "data": {
      "text/plain": [
       "<Axes: xlabel='labels', ylabel='payback'>"
      ]
     },
     "execution_count": 47,
     "metadata": {},
     "output_type": "execute_result"
    },
    {
     "data": {
      "image/png": "[encoded data removed]",
      "text/plain": [
       "<Figure size 640x480 with 1 Axes>"
      ]
     },
     "metadata": {},
     "output_type": "display_data"
    }
   ],
   "source": [
    "sns.barplot(data, x=\"labels\", y=\"payback\")"
   ]
  }
 ],
 "metadata": {
  "kernelspec": {
   "display_name": "Python 3 (ipykernel)",
   "language": "python",
   "name": "python3"
  },
  "language_info": {
   "codemirror_mode": {
    "name": "ipython",
    "version": 3
   },
   "file_extension": ".py",
   "mimetype": "text/x-python",
   "name": "python",
   "nbconvert_exporter": "python",
   "pygments_lexer": "ipython3",
   "version": "3.11.7"
  }
 },
 "nbformat": 4,
 "nbformat_minor": 5
}
